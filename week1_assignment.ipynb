{
  "nbformat": 4,
  "nbformat_minor": 0,
  "metadata": {
    "colab": {
      "name": "week1_assignment.ipynb",
      "provenance": [],
      "collapsed_sections": [],
      "authorship_tag": "ABX9TyN/e9n6yOhu0vHuQEXBGLEe",
      "include_colab_link": true
    },
    "kernelspec": {
      "name": "python3",
      "display_name": "Python 3"
    },
    "language_info": {
      "name": "python"
    }
  },
  "cells": [
    {
      "cell_type": "markdown",
      "metadata": {
        "id": "view-in-github",
        "colab_type": "text"
      },
      "source": [
        "<a href=\"https://colab.research.google.com/github/samarakoon-ryan/machinelearningCS5262Week1/blob/main/week1_assignment.ipynb\" target=\"_parent\"><img src=\"https://colab.research.google.com/assets/colab-badge.svg\" alt=\"Open In Colab\"/></a>"
      ]
    },
    {
      "cell_type": "markdown",
      "source": [
        "# Week 1 Assignment"
      ],
      "metadata": {
        "id": "c070mxOJqQHQ"
      }
    },
    {
      "cell_type": "markdown",
      "source": [
        "## Background\n",
        "\n",
        "Outer Space is vast and the number of foreign objects in space is infinite. The distances in space are numbers we cannot fathom, but NASA considers objects within 70,000 Km of Earth as Nearest Earth Objects. These objects or asteroids can be dangerous to Earth and NASA constantly monitors various parameters of these asteroids. Considering the large amount of data available on the current nearest earth objects, it would be useful to use the various parameters of these data to predict whether a nearest earth object is of any concern to Earth."
      ],
      "metadata": {
        "id": "elqVCrOqqhtY"
      }
    },
    {
      "cell_type": "markdown",
      "source": [
        "## Project Description\n",
        "\n",
        "The NASA Nearest Earth Objects dataset includes over 90,000 datapoints on asteroids. These datapoints include distance, velocity, magnitude, and diameter among other things. All datapoints are also labeled with a boolean value for whether the asteroid is considered hazardous to Earth or not. After some cleaning and feature engineering, I plan to use 10,000 datapoints as a training dataset and another 10,000 datapoints as the test dataset. The test dataset will not include the \"hazardous\" column as this is what I'll be planning to predict based on the other columns.\n",
        "\n",
        "Dataset Source - https://www.kaggle.com/datasets/sameepvani/nasa-nearest-earth-objects"
      ],
      "metadata": {
        "id": "ATjsOuzgqyCa"
      }
    },
    {
      "cell_type": "markdown",
      "source": [
        "## Performance Metrics\n",
        "\n",
        "Given that I'll have the correct \"hazardous\" labels for the test dataset, I'll be able to see the accuracy of the model very clearly. Simply put, if the values match the prediction will be considered correct. Considering that I have over 90,000 datapoints available to use I may also increase the training and test dataset sizes if I see that I don't have enough data to make an accurate prediction but I hope to only need 10,000 for each dataset."
      ],
      "metadata": {
        "id": "26rS_B-zq5c9"
      }
    }
  ]
}