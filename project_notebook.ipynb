{
  "nbformat": 4,
  "nbformat_minor": 0,
  "metadata": {
    "colab": {
      "name": "week1_assignment.ipynb",
      "provenance": [],
      "collapsed_sections": [],
      "toc_visible": true,
      "authorship_tag": "ABX9TyO34r/qlJkXwNtiaWdj4mIf",
      "include_colab_link": true
    },
    "kernelspec": {
      "name": "python3",
      "display_name": "Python 3"
    },
    "language_info": {
      "name": "python"
    }
  },
  "cells": [
    {
      "cell_type": "markdown",
      "metadata": {
        "id": "view-in-github",
        "colab_type": "text"
      },
      "source": [
        "<a href=\"https://colab.research.google.com/github/samarakoon-ryan/NASANearestEarthObjectsModeling/blob/implement-feature-engineering/project_notebook.ipynb\" target=\"_parent\"><img src=\"https://colab.research.google.com/assets/colab-badge.svg\" alt=\"Open In Colab\"/></a>"
      ]
    },
    {
      "cell_type": "markdown",
      "source": [
        "\n",
        "# Predicting Nearest Earth Objects using NASA Dataset\n",
        "\n",
        "\n"
      ],
      "metadata": {
        "id": "c070mxOJqQHQ"
      }
    },
    {
      "cell_type": "markdown",
      "source": [
        "## Background\n",
        "\n",
        "Outer Space is vast and the number of foreign objects in space is infinite. The distances in space are numbers we cannot fathom, but NASA considers objects within 70,000 Km of Earth as Nearest Earth Objects. These objects or asteroids can be dangerous to Earth and NASA constantly monitors various parameters of these asteroids. Considering the large amount of data available on the current nearest earth objects, it would be useful to use the various parameters of these data to predict whether a nearest earth object is of any concern to Earth."
      ],
      "metadata": {
        "id": "elqVCrOqqhtY"
      }
    },
    {
      "cell_type": "markdown",
      "source": [
        "## Project Description\n",
        "\n",
        "The NASA Nearest Earth Objects dataset includes over 90,000 datapoints on asteroids. These datapoints include distance, velocity, magnitude, and diameter among other things. All datapoints are also labeled with a boolean value for whether the asteroid is considered hazardous to Earth or not. After some cleaning and feature engineering, I plan to use 10,000 datapoints as a training dataset and another 10,000 datapoints as the test dataset. The test dataset will not include the \"hazardous\" column as this is what I'll be planning to predict based on the other columns.\n",
        "\n",
        "Dataset Source - https://www.kaggle.com/datasets/sameepvani/nasa-nearest-earth-objects\n"
      ],
      "metadata": {
        "id": "ATjsOuzgqyCa"
      }
    },
    {
      "cell_type": "markdown",
      "source": [
        "### Basic Exploratory Data Analysis\n",
        "\n",
        "1. What is the relationship between hazardousness and relative velocity?\n",
        "2. What is the relationship between hazardousness and absolute magnitude?\n",
        "3. What is the distribution of the size of nearest Earth objects?\n",
        "    - Are there any significant outliers?\n",
        "4. What is the relationship between relative velocity and absolute magnitude?"
      ],
      "metadata": {
        "id": "egPSP2PoImLL"
      }
    },
    {
      "cell_type": "code",
      "source": [
        "# Import dependencies\n",
        "import numpy as np\n",
        "import matplotlib.pyplot as plt\n",
        "import pandas as pd\n",
        "import seaborn as sns\n",
        "\n",
        "from sklearn.model_selection import train_test_split, GridSearchCV\n",
        "from sklearn.linear_model import LogisticRegression\n",
        "from sklearn.svm import SVC\n",
        "from sklearn.neighbors import KNeighborsClassifier\n",
        "from sklearn.pipeline import Pipeline \n",
        "from sklearn.compose import ColumnTransformer, make_column_selector\n",
        "from sklearn.impute import SimpleImputer\n",
        "from sklearn.preprocessing import StandardScaler, FunctionTransformer\n",
        "from sklearn import config_context\n",
        "from sklearn.metrics import classification_report, confusion_matrix, ConfusionMatrixDisplay"
      ],
      "metadata": {
        "id": "hkSVyFrQK8N1"
      },
      "execution_count": 1,
      "outputs": []
    },
    {
      "cell_type": "code",
      "source": [
        "# load dataset\n",
        "neos = pd.read_csv(\"neo.csv\")\n",
        "\n",
        "# display head\n",
        "neos.head()"
      ],
      "metadata": {
        "colab": {
          "base_uri": "https://localhost:8080/",
          "height": 206
        },
        "id": "4rdCQZsYLhS6",
        "outputId": "3cce2c3c-50a3-4f03-83cc-026fe183697c"
      },
      "execution_count": 2,
      "outputs": [
        {
          "output_type": "execute_result",
          "data": {
            "text/plain": [
              "        id                 name  est_diameter_min  est_diameter_max  \\\n",
              "0  2162635  162635 (2000 SS164)          1.198271          2.679415   \n",
              "1  2277475    277475 (2005 WK4)          0.265800          0.594347   \n",
              "2  2512244   512244 (2015 YE18)          0.722030          1.614507   \n",
              "3  3596030          (2012 BV13)          0.096506          0.215794   \n",
              "4  3667127          (2014 GE35)          0.255009          0.570217   \n",
              "\n",
              "   relative_velocity  miss_distance orbiting_body  sentry_object  \\\n",
              "0       13569.249224   5.483974e+07         Earth          False   \n",
              "1       73588.726663   6.143813e+07         Earth          False   \n",
              "2      114258.692129   4.979872e+07         Earth          False   \n",
              "3       24764.303138   2.543497e+07         Earth          False   \n",
              "4       42737.733765   4.627557e+07         Earth          False   \n",
              "\n",
              "   absolute_magnitude  hazardous  \n",
              "0               16.73      False  \n",
              "1               20.00       True  \n",
              "2               17.83      False  \n",
              "3               22.20      False  \n",
              "4               20.09       True  "
            ],
            "text/html": [
              "\n",
              "  <div id=\"df-1660f9cb-d727-4375-9085-6129f1389eda\">\n",
              "    <div class=\"colab-df-container\">\n",
              "      <div>\n",
              "<style scoped>\n",
              "    .dataframe tbody tr th:only-of-type {\n",
              "        vertical-align: middle;\n",
              "    }\n",
              "\n",
              "    .dataframe tbody tr th {\n",
              "        vertical-align: top;\n",
              "    }\n",
              "\n",
              "    .dataframe thead th {\n",
              "        text-align: right;\n",
              "    }\n",
              "</style>\n",
              "<table border=\"1\" class=\"dataframe\">\n",
              "  <thead>\n",
              "    <tr style=\"text-align: right;\">\n",
              "      <th></th>\n",
              "      <th>id</th>\n",
              "      <th>name</th>\n",
              "      <th>est_diameter_min</th>\n",
              "      <th>est_diameter_max</th>\n",
              "      <th>relative_velocity</th>\n",
              "      <th>miss_distance</th>\n",
              "      <th>orbiting_body</th>\n",
              "      <th>sentry_object</th>\n",
              "      <th>absolute_magnitude</th>\n",
              "      <th>hazardous</th>\n",
              "    </tr>\n",
              "  </thead>\n",
              "  <tbody>\n",
              "    <tr>\n",
              "      <th>0</th>\n",
              "      <td>2162635</td>\n",
              "      <td>162635 (2000 SS164)</td>\n",
              "      <td>1.198271</td>\n",
              "      <td>2.679415</td>\n",
              "      <td>13569.249224</td>\n",
              "      <td>5.483974e+07</td>\n",
              "      <td>Earth</td>\n",
              "      <td>False</td>\n",
              "      <td>16.73</td>\n",
              "      <td>False</td>\n",
              "    </tr>\n",
              "    <tr>\n",
              "      <th>1</th>\n",
              "      <td>2277475</td>\n",
              "      <td>277475 (2005 WK4)</td>\n",
              "      <td>0.265800</td>\n",
              "      <td>0.594347</td>\n",
              "      <td>73588.726663</td>\n",
              "      <td>6.143813e+07</td>\n",
              "      <td>Earth</td>\n",
              "      <td>False</td>\n",
              "      <td>20.00</td>\n",
              "      <td>True</td>\n",
              "    </tr>\n",
              "    <tr>\n",
              "      <th>2</th>\n",
              "      <td>2512244</td>\n",
              "      <td>512244 (2015 YE18)</td>\n",
              "      <td>0.722030</td>\n",
              "      <td>1.614507</td>\n",
              "      <td>114258.692129</td>\n",
              "      <td>4.979872e+07</td>\n",
              "      <td>Earth</td>\n",
              "      <td>False</td>\n",
              "      <td>17.83</td>\n",
              "      <td>False</td>\n",
              "    </tr>\n",
              "    <tr>\n",
              "      <th>3</th>\n",
              "      <td>3596030</td>\n",
              "      <td>(2012 BV13)</td>\n",
              "      <td>0.096506</td>\n",
              "      <td>0.215794</td>\n",
              "      <td>24764.303138</td>\n",
              "      <td>2.543497e+07</td>\n",
              "      <td>Earth</td>\n",
              "      <td>False</td>\n",
              "      <td>22.20</td>\n",
              "      <td>False</td>\n",
              "    </tr>\n",
              "    <tr>\n",
              "      <th>4</th>\n",
              "      <td>3667127</td>\n",
              "      <td>(2014 GE35)</td>\n",
              "      <td>0.255009</td>\n",
              "      <td>0.570217</td>\n",
              "      <td>42737.733765</td>\n",
              "      <td>4.627557e+07</td>\n",
              "      <td>Earth</td>\n",
              "      <td>False</td>\n",
              "      <td>20.09</td>\n",
              "      <td>True</td>\n",
              "    </tr>\n",
              "  </tbody>\n",
              "</table>\n",
              "</div>\n",
              "      <button class=\"colab-df-convert\" onclick=\"convertToInteractive('df-1660f9cb-d727-4375-9085-6129f1389eda')\"\n",
              "              title=\"Convert this dataframe to an interactive table.\"\n",
              "              style=\"display:none;\">\n",
              "        \n",
              "  <svg xmlns=\"http://www.w3.org/2000/svg\" height=\"24px\"viewBox=\"0 0 24 24\"\n",
              "       width=\"24px\">\n",
              "    <path d=\"M0 0h24v24H0V0z\" fill=\"none\"/>\n",
              "    <path d=\"M18.56 5.44l.94 2.06.94-2.06 2.06-.94-2.06-.94-.94-2.06-.94 2.06-2.06.94zm-11 1L8.5 8.5l.94-2.06 2.06-.94-2.06-.94L8.5 2.5l-.94 2.06-2.06.94zm10 10l.94 2.06.94-2.06 2.06-.94-2.06-.94-.94-2.06-.94 2.06-2.06.94z\"/><path d=\"M17.41 7.96l-1.37-1.37c-.4-.4-.92-.59-1.43-.59-.52 0-1.04.2-1.43.59L10.3 9.45l-7.72 7.72c-.78.78-.78 2.05 0 2.83L4 21.41c.39.39.9.59 1.41.59.51 0 1.02-.2 1.41-.59l7.78-7.78 2.81-2.81c.8-.78.8-2.07 0-2.86zM5.41 20L4 18.59l7.72-7.72 1.47 1.35L5.41 20z\"/>\n",
              "  </svg>\n",
              "      </button>\n",
              "      \n",
              "  <style>\n",
              "    .colab-df-container {\n",
              "      display:flex;\n",
              "      flex-wrap:wrap;\n",
              "      gap: 12px;\n",
              "    }\n",
              "\n",
              "    .colab-df-convert {\n",
              "      background-color: #E8F0FE;\n",
              "      border: none;\n",
              "      border-radius: 50%;\n",
              "      cursor: pointer;\n",
              "      display: none;\n",
              "      fill: #1967D2;\n",
              "      height: 32px;\n",
              "      padding: 0 0 0 0;\n",
              "      width: 32px;\n",
              "    }\n",
              "\n",
              "    .colab-df-convert:hover {\n",
              "      background-color: #E2EBFA;\n",
              "      box-shadow: 0px 1px 2px rgba(60, 64, 67, 0.3), 0px 1px 3px 1px rgba(60, 64, 67, 0.15);\n",
              "      fill: #174EA6;\n",
              "    }\n",
              "\n",
              "    [theme=dark] .colab-df-convert {\n",
              "      background-color: #3B4455;\n",
              "      fill: #D2E3FC;\n",
              "    }\n",
              "\n",
              "    [theme=dark] .colab-df-convert:hover {\n",
              "      background-color: #434B5C;\n",
              "      box-shadow: 0px 1px 3px 1px rgba(0, 0, 0, 0.15);\n",
              "      filter: drop-shadow(0px 1px 2px rgba(0, 0, 0, 0.3));\n",
              "      fill: #FFFFFF;\n",
              "    }\n",
              "  </style>\n",
              "\n",
              "      <script>\n",
              "        const buttonEl =\n",
              "          document.querySelector('#df-1660f9cb-d727-4375-9085-6129f1389eda button.colab-df-convert');\n",
              "        buttonEl.style.display =\n",
              "          google.colab.kernel.accessAllowed ? 'block' : 'none';\n",
              "\n",
              "        async function convertToInteractive(key) {\n",
              "          const element = document.querySelector('#df-1660f9cb-d727-4375-9085-6129f1389eda');\n",
              "          const dataTable =\n",
              "            await google.colab.kernel.invokeFunction('convertToInteractive',\n",
              "                                                     [key], {});\n",
              "          if (!dataTable) return;\n",
              "\n",
              "          const docLinkHtml = 'Like what you see? Visit the ' +\n",
              "            '<a target=\"_blank\" href=https://colab.research.google.com/notebooks/data_table.ipynb>data table notebook</a>'\n",
              "            + ' to learn more about interactive tables.';\n",
              "          element.innerHTML = '';\n",
              "          dataTable['output_type'] = 'display_data';\n",
              "          await google.colab.output.renderOutput(dataTable, element);\n",
              "          const docLink = document.createElement('div');\n",
              "          docLink.innerHTML = docLinkHtml;\n",
              "          element.appendChild(docLink);\n",
              "        }\n",
              "      </script>\n",
              "    </div>\n",
              "  </div>\n",
              "  "
            ]
          },
          "metadata": {},
          "execution_count": 2
        }
      ]
    },
    {
      "cell_type": "code",
      "source": [
        "# display descriptive statistics for valid columns\n",
        "neos.describe()"
      ],
      "metadata": {
        "colab": {
          "base_uri": "https://localhost:8080/",
          "height": 300
        },
        "id": "LfrVmzcsP2VH",
        "outputId": "de2eb76b-ac25-4e5d-d8ed-d158c8e50f1d"
      },
      "execution_count": 3,
      "outputs": [
        {
          "output_type": "execute_result",
          "data": {
            "text/plain": [
              "                 id  est_diameter_min  est_diameter_max  relative_velocity  \\\n",
              "count  9.083600e+04      90836.000000      90836.000000       90836.000000   \n",
              "mean   1.438288e+07          0.127432          0.284947       48066.918918   \n",
              "std    2.087202e+07          0.298511          0.667491       25293.296961   \n",
              "min    2.000433e+06          0.000609          0.001362         203.346433   \n",
              "25%    3.448110e+06          0.019256          0.043057       28619.020645   \n",
              "50%    3.748362e+06          0.048368          0.108153       44190.117890   \n",
              "75%    3.884023e+06          0.143402          0.320656       62923.604633   \n",
              "max    5.427591e+07         37.892650         84.730541      236990.128088   \n",
              "\n",
              "       miss_distance  absolute_magnitude  \n",
              "count   9.083600e+04        90836.000000  \n",
              "mean    3.706655e+07           23.527103  \n",
              "std     2.235204e+07            2.894086  \n",
              "min     6.745533e+03            9.230000  \n",
              "25%     1.721082e+07           21.340000  \n",
              "50%     3.784658e+07           23.700000  \n",
              "75%     5.654900e+07           25.700000  \n",
              "max     7.479865e+07           33.200000  "
            ],
            "text/html": [
              "\n",
              "  <div id=\"df-e08bcc71-04f7-4450-8090-109ccdfb3525\">\n",
              "    <div class=\"colab-df-container\">\n",
              "      <div>\n",
              "<style scoped>\n",
              "    .dataframe tbody tr th:only-of-type {\n",
              "        vertical-align: middle;\n",
              "    }\n",
              "\n",
              "    .dataframe tbody tr th {\n",
              "        vertical-align: top;\n",
              "    }\n",
              "\n",
              "    .dataframe thead th {\n",
              "        text-align: right;\n",
              "    }\n",
              "</style>\n",
              "<table border=\"1\" class=\"dataframe\">\n",
              "  <thead>\n",
              "    <tr style=\"text-align: right;\">\n",
              "      <th></th>\n",
              "      <th>id</th>\n",
              "      <th>est_diameter_min</th>\n",
              "      <th>est_diameter_max</th>\n",
              "      <th>relative_velocity</th>\n",
              "      <th>miss_distance</th>\n",
              "      <th>absolute_magnitude</th>\n",
              "    </tr>\n",
              "  </thead>\n",
              "  <tbody>\n",
              "    <tr>\n",
              "      <th>count</th>\n",
              "      <td>9.083600e+04</td>\n",
              "      <td>90836.000000</td>\n",
              "      <td>90836.000000</td>\n",
              "      <td>90836.000000</td>\n",
              "      <td>9.083600e+04</td>\n",
              "      <td>90836.000000</td>\n",
              "    </tr>\n",
              "    <tr>\n",
              "      <th>mean</th>\n",
              "      <td>1.438288e+07</td>\n",
              "      <td>0.127432</td>\n",
              "      <td>0.284947</td>\n",
              "      <td>48066.918918</td>\n",
              "      <td>3.706655e+07</td>\n",
              "      <td>23.527103</td>\n",
              "    </tr>\n",
              "    <tr>\n",
              "      <th>std</th>\n",
              "      <td>2.087202e+07</td>\n",
              "      <td>0.298511</td>\n",
              "      <td>0.667491</td>\n",
              "      <td>25293.296961</td>\n",
              "      <td>2.235204e+07</td>\n",
              "      <td>2.894086</td>\n",
              "    </tr>\n",
              "    <tr>\n",
              "      <th>min</th>\n",
              "      <td>2.000433e+06</td>\n",
              "      <td>0.000609</td>\n",
              "      <td>0.001362</td>\n",
              "      <td>203.346433</td>\n",
              "      <td>6.745533e+03</td>\n",
              "      <td>9.230000</td>\n",
              "    </tr>\n",
              "    <tr>\n",
              "      <th>25%</th>\n",
              "      <td>3.448110e+06</td>\n",
              "      <td>0.019256</td>\n",
              "      <td>0.043057</td>\n",
              "      <td>28619.020645</td>\n",
              "      <td>1.721082e+07</td>\n",
              "      <td>21.340000</td>\n",
              "    </tr>\n",
              "    <tr>\n",
              "      <th>50%</th>\n",
              "      <td>3.748362e+06</td>\n",
              "      <td>0.048368</td>\n",
              "      <td>0.108153</td>\n",
              "      <td>44190.117890</td>\n",
              "      <td>3.784658e+07</td>\n",
              "      <td>23.700000</td>\n",
              "    </tr>\n",
              "    <tr>\n",
              "      <th>75%</th>\n",
              "      <td>3.884023e+06</td>\n",
              "      <td>0.143402</td>\n",
              "      <td>0.320656</td>\n",
              "      <td>62923.604633</td>\n",
              "      <td>5.654900e+07</td>\n",
              "      <td>25.700000</td>\n",
              "    </tr>\n",
              "    <tr>\n",
              "      <th>max</th>\n",
              "      <td>5.427591e+07</td>\n",
              "      <td>37.892650</td>\n",
              "      <td>84.730541</td>\n",
              "      <td>236990.128088</td>\n",
              "      <td>7.479865e+07</td>\n",
              "      <td>33.200000</td>\n",
              "    </tr>\n",
              "  </tbody>\n",
              "</table>\n",
              "</div>\n",
              "      <button class=\"colab-df-convert\" onclick=\"convertToInteractive('df-e08bcc71-04f7-4450-8090-109ccdfb3525')\"\n",
              "              title=\"Convert this dataframe to an interactive table.\"\n",
              "              style=\"display:none;\">\n",
              "        \n",
              "  <svg xmlns=\"http://www.w3.org/2000/svg\" height=\"24px\"viewBox=\"0 0 24 24\"\n",
              "       width=\"24px\">\n",
              "    <path d=\"M0 0h24v24H0V0z\" fill=\"none\"/>\n",
              "    <path d=\"M18.56 5.44l.94 2.06.94-2.06 2.06-.94-2.06-.94-.94-2.06-.94 2.06-2.06.94zm-11 1L8.5 8.5l.94-2.06 2.06-.94-2.06-.94L8.5 2.5l-.94 2.06-2.06.94zm10 10l.94 2.06.94-2.06 2.06-.94-2.06-.94-.94-2.06-.94 2.06-2.06.94z\"/><path d=\"M17.41 7.96l-1.37-1.37c-.4-.4-.92-.59-1.43-.59-.52 0-1.04.2-1.43.59L10.3 9.45l-7.72 7.72c-.78.78-.78 2.05 0 2.83L4 21.41c.39.39.9.59 1.41.59.51 0 1.02-.2 1.41-.59l7.78-7.78 2.81-2.81c.8-.78.8-2.07 0-2.86zM5.41 20L4 18.59l7.72-7.72 1.47 1.35L5.41 20z\"/>\n",
              "  </svg>\n",
              "      </button>\n",
              "      \n",
              "  <style>\n",
              "    .colab-df-container {\n",
              "      display:flex;\n",
              "      flex-wrap:wrap;\n",
              "      gap: 12px;\n",
              "    }\n",
              "\n",
              "    .colab-df-convert {\n",
              "      background-color: #E8F0FE;\n",
              "      border: none;\n",
              "      border-radius: 50%;\n",
              "      cursor: pointer;\n",
              "      display: none;\n",
              "      fill: #1967D2;\n",
              "      height: 32px;\n",
              "      padding: 0 0 0 0;\n",
              "      width: 32px;\n",
              "    }\n",
              "\n",
              "    .colab-df-convert:hover {\n",
              "      background-color: #E2EBFA;\n",
              "      box-shadow: 0px 1px 2px rgba(60, 64, 67, 0.3), 0px 1px 3px 1px rgba(60, 64, 67, 0.15);\n",
              "      fill: #174EA6;\n",
              "    }\n",
              "\n",
              "    [theme=dark] .colab-df-convert {\n",
              "      background-color: #3B4455;\n",
              "      fill: #D2E3FC;\n",
              "    }\n",
              "\n",
              "    [theme=dark] .colab-df-convert:hover {\n",
              "      background-color: #434B5C;\n",
              "      box-shadow: 0px 1px 3px 1px rgba(0, 0, 0, 0.15);\n",
              "      filter: drop-shadow(0px 1px 2px rgba(0, 0, 0, 0.3));\n",
              "      fill: #FFFFFF;\n",
              "    }\n",
              "  </style>\n",
              "\n",
              "      <script>\n",
              "        const buttonEl =\n",
              "          document.querySelector('#df-e08bcc71-04f7-4450-8090-109ccdfb3525 button.colab-df-convert');\n",
              "        buttonEl.style.display =\n",
              "          google.colab.kernel.accessAllowed ? 'block' : 'none';\n",
              "\n",
              "        async function convertToInteractive(key) {\n",
              "          const element = document.querySelector('#df-e08bcc71-04f7-4450-8090-109ccdfb3525');\n",
              "          const dataTable =\n",
              "            await google.colab.kernel.invokeFunction('convertToInteractive',\n",
              "                                                     [key], {});\n",
              "          if (!dataTable) return;\n",
              "\n",
              "          const docLinkHtml = 'Like what you see? Visit the ' +\n",
              "            '<a target=\"_blank\" href=https://colab.research.google.com/notebooks/data_table.ipynb>data table notebook</a>'\n",
              "            + ' to learn more about interactive tables.';\n",
              "          element.innerHTML = '';\n",
              "          dataTable['output_type'] = 'display_data';\n",
              "          await google.colab.output.renderOutput(dataTable, element);\n",
              "          const docLink = document.createElement('div');\n",
              "          docLink.innerHTML = docLinkHtml;\n",
              "          element.appendChild(docLink);\n",
              "        }\n",
              "      </script>\n",
              "    </div>\n",
              "  </div>\n",
              "  "
            ]
          },
          "metadata": {},
          "execution_count": 3
        }
      ]
    },
    {
      "cell_type": "code",
      "source": [
        "# display column info\n",
        "neos.info()"
      ],
      "metadata": {
        "colab": {
          "base_uri": "https://localhost:8080/"
        },
        "id": "lfc2M328Pm3A",
        "outputId": "71613a9a-5dc3-4522-a3da-94c9355348ad"
      },
      "execution_count": 4,
      "outputs": [
        {
          "output_type": "stream",
          "name": "stdout",
          "text": [
            "<class 'pandas.core.frame.DataFrame'>\n",
            "RangeIndex: 90836 entries, 0 to 90835\n",
            "Data columns (total 10 columns):\n",
            " #   Column              Non-Null Count  Dtype  \n",
            "---  ------              --------------  -----  \n",
            " 0   id                  90836 non-null  int64  \n",
            " 1   name                90836 non-null  object \n",
            " 2   est_diameter_min    90836 non-null  float64\n",
            " 3   est_diameter_max    90836 non-null  float64\n",
            " 4   relative_velocity   90836 non-null  float64\n",
            " 5   miss_distance       90836 non-null  float64\n",
            " 6   orbiting_body       90836 non-null  object \n",
            " 7   sentry_object       90836 non-null  bool   \n",
            " 8   absolute_magnitude  90836 non-null  float64\n",
            " 9   hazardous           90836 non-null  bool   \n",
            "dtypes: bool(2), float64(5), int64(1), object(2)\n",
            "memory usage: 5.7+ MB\n"
          ]
        }
      ]
    },
    {
      "cell_type": "code",
      "source": [
        "# Violin plots for both hazardous types looking at relative velocity\n",
        "sns.violinplot(data=neos, y='relative_velocity', x='hazardous').set(title='Relative Velocity for Hazardousness')"
      ],
      "metadata": {
        "colab": {
          "base_uri": "https://localhost:8080/",
          "height": 312
        },
        "id": "agzl8Go_bSiF",
        "outputId": "c0ee4603-5895-44b1-d4c0-c28928a9d4b2"
      },
      "execution_count": 5,
      "outputs": [
        {
          "output_type": "execute_result",
          "data": {
            "text/plain": [
              "[Text(0.5, 1.0, 'Relative Velocity for Hazardousness')]"
            ]
          },
          "metadata": {},
          "execution_count": 5
        },
        {
          "output_type": "display_data",
          "data": {
            "text/plain": [
              "<Figure size 432x288 with 1 Axes>"
            ],
            "image/png": "[encoded data removed]"
          },
          "metadata": {
            "needs_background": "light"
          }
        }
      ]
    },
    {
      "cell_type": "code",
      "source": [
        "# plot mean relative velocity per hazardousness\n",
        "neos.groupby('hazardous')['relative_velocity'].mean().plot.bar(title='Average Relative Velocity for Hazardousness')\n",
        "plt.show()\n",
        "neos.groupby('hazardous')['relative_velocity'].mean().round(2)\n",
        "rv_haz = neos.groupby('hazardous')['relative_velocity'].mean()[1].round(2)\n",
        "rv_non = neos.groupby('hazardous')['relative_velocity'].mean()[0].round(2)\n",
        "\n",
        "percentage_increase = ((rv_haz - rv_non) / rv_non * 100).round()\n",
        "print(f'Hazardous NEOs on average had a {percentage_increase}% higher relative velocity.')"
      ],
      "metadata": {
        "colab": {
          "base_uri": "https://localhost:8080/",
          "height": 328
        },
        "id": "P-8Bqu_Ysf1H",
        "outputId": "f86e3ac1-845a-453b-c631-41d216ae6ed0"
      },
      "execution_count": 6,
      "outputs": [
        {
          "output_type": "display_data",
          "data": {
            "text/plain": [
              "<Figure size 432x288 with 1 Axes>"
            ],
            "image/png": "[encoded data removed]"
          },
          "metadata": {
            "needs_background": "light"
          }
        },
        {
          "output_type": "stream",
          "name": "stdout",
          "text": [
            "Hazardous NEOs on average had a 35.0% higher relative velocity.\n"
          ]
        }
      ]
    },
    {
      "cell_type": "code",
      "source": [
        "# calculate range for relatively velocity\n",
        "rv_maximum = neos.groupby('hazardous')['relative_velocity'].max()\n",
        "rv_minimum = neos.groupby('hazardous')['relative_velocity'].min()\n",
        "rv_range = rv_maximum - rv_minimum\n",
        "rv_range.plot.bar(title='Relative Velocity Range between Hazardous Types')\n",
        "rv_range.round(2)"
      ],
      "metadata": {
        "colab": {
          "base_uri": "https://localhost:8080/",
          "height": 380
        },
        "id": "_GKNs_VCtRuW",
        "outputId": "58ea4faf-ba98-40ac-8de4-402bddc6ce78"
      },
      "execution_count": 7,
      "outputs": [
        {
          "output_type": "execute_result",
          "data": {
            "text/plain": [
              "hazardous\n",
              "False    236786.78\n",
              "True     187478.68\n",
              "Name: relative_velocity, dtype: float64"
            ]
          },
          "metadata": {},
          "execution_count": 7
        },
        {
          "output_type": "display_data",
          "data": {
            "text/plain": [
              "<Figure size 432x288 with 1 Axes>"
            ],
            "image/png": "[encoded data removed]"
          },
          "metadata": {
            "needs_background": "light"
          }
        }
      ]
    },
    {
      "cell_type": "code",
      "source": [
        "# Violin plots for both hazardous types looking at absolute magnitude\n",
        "sns.violinplot(data=neos, y='absolute_magnitude', x='hazardous').set(title='Absolute Magnitude for Hazardousness')"
      ],
      "metadata": {
        "colab": {
          "base_uri": "https://localhost:8080/",
          "height": 312
        },
        "id": "8Hy1F4XmTlIY",
        "outputId": "2886193c-eb1a-400a-dee2-25034daea784"
      },
      "execution_count": 8,
      "outputs": [
        {
          "output_type": "execute_result",
          "data": {
            "text/plain": [
              "[Text(0.5, 1.0, 'Absolute Magnitude for Hazardousness')]"
            ]
          },
          "metadata": {},
          "execution_count": 8
        },
        {
          "output_type": "display_data",
          "data": {
            "text/plain": [
              "<Figure size 432x288 with 1 Axes>"
            ],
            "image/png": "[encoded data removed]"
          },
          "metadata": {
            "needs_background": "light"
          }
        }
      ]
    },
    {
      "cell_type": "code",
      "source": [
        "# plot mean absolute magnitude per hazardousness\n",
        "neos.groupby('hazardous')['absolute_magnitude'].mean().plot.bar(title='Average Absolute Magnitude betweeen Hazardousness')\n",
        "plt.show()\n",
        "neos.groupby('hazardous')['absolute_magnitude'].mean().round(2)"
      ],
      "metadata": {
        "colab": {
          "base_uri": "https://localhost:8080/",
          "height": 380
        },
        "id": "A7KTl_ZYuDiK",
        "outputId": "63a427fe-297f-428d-cd26-eb311ceca3dd"
      },
      "execution_count": 9,
      "outputs": [
        {
          "output_type": "display_data",
          "data": {
            "text/plain": [
              "<Figure size 432x288 with 1 Axes>"
            ],
            "image/png": "[encoded data removed]"
          },
          "metadata": {
            "needs_background": "light"
          }
        },
        {
          "output_type": "execute_result",
          "data": {
            "text/plain": [
              "hazardous\n",
              "False    23.87\n",
              "True     20.31\n",
              "Name: absolute_magnitude, dtype: float64"
            ]
          },
          "metadata": {},
          "execution_count": 9
        }
      ]
    },
    {
      "cell_type": "code",
      "source": [
        "# calculate range for absolute magnitude\n",
        "absmag_maximum = neos.groupby('hazardous')['absolute_magnitude'].max()\n",
        "abgmag_minimum = neos.groupby('hazardous')['absolute_magnitude'].min()\n",
        "absmag_range = absmag_maximum - abgmag_minimum\n",
        "absmag_range.plot.bar(title='Absolute Magnitude Range between Hazardousness')\n",
        "absmag_range.round(2)"
      ],
      "metadata": {
        "colab": {
          "base_uri": "https://localhost:8080/",
          "height": 380
        },
        "id": "qKKF20J8uQvg",
        "outputId": "75347888-fa1e-4ca8-bc51-fb70f3d3125a"
      },
      "execution_count": 10,
      "outputs": [
        {
          "output_type": "execute_result",
          "data": {
            "text/plain": [
              "hazardous\n",
              "False    23.97\n",
              "True      8.36\n",
              "Name: absolute_magnitude, dtype: float64"
            ]
          },
          "metadata": {},
          "execution_count": 10
        },
        {
          "output_type": "display_data",
          "data": {
            "text/plain": [
              "<Figure size 432x288 with 1 Axes>"
            ],
            "image/png": "[encoded data removed]"
          },
          "metadata": {
            "needs_background": "light"
          }
        }
      ]
    },
    {
      "cell_type": "code",
      "source": [
        "# Visualize distribution of NEO min size\n",
        "sns.violinplot(data=neos, y='est_diameter_min', x='hazardous').set(title='Minimum Estimated Diameter per Hazardous Type')\n",
        "\n",
        "haz_min_diam_mean = neos.groupby('hazardous')['est_diameter_min'].mean()[1].round(2)\n",
        "non_min_diam_mean = neos.groupby('hazardous')['est_diameter_min'].mean()[0].round(2)\n",
        "percent_change_min_diam_mean = ((haz_min_diam_mean - non_min_diam_mean) / non_min_diam_mean * 100).round()\n",
        "\n",
        "haz_min_diam_max = neos.groupby('hazardous')['est_diameter_min'].max()[1].round(2)\n",
        "non_min_diam_max = neos.groupby('hazardous')['est_diameter_min'].max()[0].round(2)\n",
        "\n",
        "print(f'The estimated minimum diameter on average is {percent_change_min_diam_mean}% larger for hazardous NEOs.\\n')\n",
        "print(f'The average estimated minimum diameter for hazardous NEOs is {haz_min_diam_mean}km.')\n",
        "print(f'The average estimated minimum diameter for non-hazardous NEOs is {non_min_diam_mean}km.\\n')\n",
        "\n",
        "print(f'The maximum estimated minimum diameter for hazardous NEOs is {haz_min_diam_max}km.')\n",
        "print(f'The maximum estimated minimum diameter for non-hazardous NEOs is {non_min_diam_max}km.')"
      ],
      "metadata": {
        "colab": {
          "base_uri": "https://localhost:8080/",
          "height": 417
        },
        "id": "vE9LkfLXT5OW",
        "outputId": "5f8789f1-56b6-42cb-a656-32fe922c5a69"
      },
      "execution_count": 11,
      "outputs": [
        {
          "output_type": "stream",
          "name": "stdout",
          "text": [
            "The estimated minimum diameter on average is 164.0% larger for hazardous NEOs.\n",
            "\n",
            "The average estimated minimum diameter for hazardous NEOs is 0.29km.\n",
            "The average estimated minimum diameter for non-hazardous NEOs is 0.11km.\n",
            "\n",
            "The maximum estimated minimum diameter for hazardous NEOs is 4.14km.\n",
            "The maximum estimated minimum diameter for non-hazardous NEOs is 37.89km.\n"
          ]
        },
        {
          "output_type": "display_data",
          "data": {
            "text/plain": [
              "<Figure size 432x288 with 1 Axes>"
            ],
            "image/png": "[encoded data removed]"
          },
          "metadata": {
            "needs_background": "light"
          }
        }
      ]
    },
    {
      "cell_type": "code",
      "source": [
        "# Visualize distribution of NEO max size\n",
        "sns.violinplot(data=neos, y='est_diameter_max', x='hazardous').set(title='Maximum Estimated Diameter per Hazardous Type')\n",
        "\n",
        "haz_max_diam_mean = neos.groupby('hazardous')['est_diameter_max'].mean()[1].round(2)\n",
        "non_max_diam_mean = neos.groupby('hazardous')['est_diameter_max'].mean()[0].round(2)\n",
        "percent_change_max_diam_mean = ((haz_max_diam_mean - non_max_diam_mean) / non_max_diam_mean * 100).round()\n",
        "\n",
        "haz_max_diam_max = neos.groupby('hazardous')['est_diameter_max'].max()[1].round(2)\n",
        "non_max_diam_max = neos.groupby('hazardous')['est_diameter_max'].max()[0].round(2)\n",
        "\n",
        "print(f'The estimated maximum diameter on average is {percent_change_max_diam_mean}% larger for hazardous NEOs.\\n')\n",
        "\n",
        "\n",
        "print(f'The maximum estimated maximum diameter for hazardous NEOs is {haz_max_diam_max}km.')\n",
        "print(f'The maximum estimated maximum diameter for non-hazardous NEOs is {non_max_diam_max}km.')"
      ],
      "metadata": {
        "colab": {
          "base_uri": "https://localhost:8080/",
          "height": 364
        },
        "id": "_SRC7GR_W8gj",
        "outputId": "a084b1e1-b99a-4aa1-bccd-254060ff2de3"
      },
      "execution_count": 12,
      "outputs": [
        {
          "output_type": "stream",
          "name": "stdout",
          "text": [
            "The estimated maximum diameter on average is 175.0% larger for hazardous NEOs.\n",
            "\n",
            "The maximum estimated maximum diameter for hazardous NEOs is 9.25km.\n",
            "The maximum estimated maximum diameter for non-hazardous NEOs is 84.73km.\n"
          ]
        },
        {
          "output_type": "display_data",
          "data": {
            "text/plain": [
              "<Figure size 432x288 with 1 Axes>"
            ],
            "image/png": "[encoded data removed]"
          },
          "metadata": {
            "needs_background": "light"
          }
        }
      ]
    },
    {
      "cell_type": "code",
      "source": [
        "# plot relative velocity and absolute magnitude\n",
        "sns.scatterplot(x=neos['absolute_magnitude'], y=neos['relative_velocity']).set(title='Absolute Magnitude vs. Relative Velocity')"
      ],
      "metadata": {
        "colab": {
          "base_uri": "https://localhost:8080/",
          "height": 313
        },
        "id": "WJb7G1y4X4xv",
        "outputId": "2ce4c125-1570-4cf1-9856-f443d1294255"
      },
      "execution_count": 13,
      "outputs": [
        {
          "output_type": "execute_result",
          "data": {
            "text/plain": [
              "[Text(0.5, 1.0, 'Absolute Magnitude vs. Relative Velocity')]"
            ]
          },
          "metadata": {},
          "execution_count": 13
        },
        {
          "output_type": "display_data",
          "data": {
            "text/plain": [
              "<Figure size 432x288 with 1 Axes>"
            ],
            "image/png": "[encoded data removed]"
          },
          "metadata": {
            "needs_background": "light"
          }
        }
      ]
    },
    {
      "cell_type": "markdown",
      "source": [
        "### Exploratory Analysis Findings\n",
        "1. It's possible that a higher relative velocity may be an indication of a more hazardous NEO. Although the NEOs not labeled as hazardous had a larger range than the hazardous NEOs, the hazardous NEOs were on average 35% faster in relative velocity than non-hazardous NEOs. \n",
        "\n",
        "2. Pertaining to absolute magnitude, the hazardous labeled NEO had a much tighter distribution with most absolute magnitudes lying very close to the mean. The non-hazardous NEOs had a higher absolute magnitude on average but also had a much larger range which could explain the higher average. \n",
        "\n",
        "3. Using the estimated minimum diameter, NEOs that are hazardous are on average 164% larger than non-hazardous NEOs. Using the estimated maximum diameter, NEOs that are hazardous are similarly on average 175% larger than non-hazardous NEOs. For both parameters, non-hazardous NEOs had much larger ranges and extremely large outliers. Even though the distribution for hazardous NEOs was much tighter, the average remained higher which is much more compelling.\n",
        "\n",
        "4. There certainly appears to be a moderate negative correlation between absolute magnitude and relative velocity. As absolute magnitude increases, relative velocity appears to decrease slightly."
      ],
      "metadata": {
        "id": "fhaq22R8ropW"
      }
    },
    {
      "cell_type": "markdown",
      "source": [
        "### Feature Engineering\n",
        "\n",
        "- I plan to drop the `orbiting_body` and `sentry_object` columns as they have the same value for each row in both columns respectively.\n",
        "- I'll also drop `id` as it is a numerical value that the model may think is of relevance, when indeed it is not. All the drops will be performed in the pipeline using \"drop\" in a `ColumnTransformer`.\n",
        "- I'd like to take the average of `est_diameter_min` and `est_diameter_max` and put those values into an `est_diameter` column to see whether an average of these columns could provide better modeling. \n",
        "- I'd like to try to create a function that extracts the year out of `name` since it's possible that year could have an affect on where NEOs and other planets may be in relation to Earth.\n",
        "- Simple test will be applied to assert the correct transformation are being done. "
      ],
      "metadata": {
        "id": "w5dI0OEKAJC3"
      }
    },
    {
      "cell_type": "code",
      "source": [
        "# This function transformer for estimated diameter average\n",
        "\n",
        "def combine_est_diameter(data_frame):\n",
        "    \"\"\"This function finds the average between `est_diameter_min` and `est_diameter_max` to \n",
        "    create a new column `est_diameter`. The former two columns are then dropped and the new\n",
        "    data_frame is returned.\"\"\"\n",
        "\n",
        "    data_frame['est_diameter'] = (data_frame['est_diameter_min'] + data_frame['est_diameter_max']) / 2\n",
        "    data_frame = data_frame.drop(columns=['est_diameter_min', 'est_diameter_max'])\n",
        "    return data_frame\n",
        "\n",
        "# test\n",
        "df = pd.DataFrame(columns=['est_diameter_min', 'est_diameter_max'], data= [[2,4], [1,3]])\n",
        "combine_est_diameter(df) # should return [[3.0], [2.0]]"
      ],
      "metadata": {
        "id": "0HGxyNtp5wJr",
        "outputId": "f0323bcd-f548-43ee-d103-c5cc6bf9ad4b",
        "colab": {
          "base_uri": "https://localhost:8080/",
          "height": 112
        }
      },
      "execution_count": 18,
      "outputs": [
        {
          "output_type": "execute_result",
          "data": {
            "text/plain": [
              "   est_diameter\n",
              "0           3.0\n",
              "1           2.0"
            ],
            "text/html": [
              "\n",
              "  <div id=\"df-c94c4da2-582d-416f-8134-47cf5cfb57cd\">\n",
              "    <div class=\"colab-df-container\">\n",
              "      <div>\n",
              "<style scoped>\n",
              "    .dataframe tbody tr th:only-of-type {\n",
              "        vertical-align: middle;\n",
              "    }\n",
              "\n",
              "    .dataframe tbody tr th {\n",
              "        vertical-align: top;\n",
              "    }\n",
              "\n",
              "    .dataframe thead th {\n",
              "        text-align: right;\n",
              "    }\n",
              "</style>\n",
              "<table border=\"1\" class=\"dataframe\">\n",
              "  <thead>\n",
              "    <tr style=\"text-align: right;\">\n",
              "      <th></th>\n",
              "      <th>est_diameter</th>\n",
              "    </tr>\n",
              "  </thead>\n",
              "  <tbody>\n",
              "    <tr>\n",
              "      <th>0</th>\n",
              "      <td>3.0</td>\n",
              "    </tr>\n",
              "    <tr>\n",
              "      <th>1</th>\n",
              "      <td>2.0</td>\n",
              "    </tr>\n",
              "  </tbody>\n",
              "</table>\n",
              "</div>\n",
              "      <button class=\"colab-df-convert\" onclick=\"convertToInteractive('df-c94c4da2-582d-416f-8134-47cf5cfb57cd')\"\n",
              "              title=\"Convert this dataframe to an interactive table.\"\n",
              "              style=\"display:none;\">\n",
              "        \n",
              "  <svg xmlns=\"http://www.w3.org/2000/svg\" height=\"24px\"viewBox=\"0 0 24 24\"\n",
              "       width=\"24px\">\n",
              "    <path d=\"M0 0h24v24H0V0z\" fill=\"none\"/>\n",
              "    <path d=\"M18.56 5.44l.94 2.06.94-2.06 2.06-.94-2.06-.94-.94-2.06-.94 2.06-2.06.94zm-11 1L8.5 8.5l.94-2.06 2.06-.94-2.06-.94L8.5 2.5l-.94 2.06-2.06.94zm10 10l.94 2.06.94-2.06 2.06-.94-2.06-.94-.94-2.06-.94 2.06-2.06.94z\"/><path d=\"M17.41 7.96l-1.37-1.37c-.4-.4-.92-.59-1.43-.59-.52 0-1.04.2-1.43.59L10.3 9.45l-7.72 7.72c-.78.78-.78 2.05 0 2.83L4 21.41c.39.39.9.59 1.41.59.51 0 1.02-.2 1.41-.59l7.78-7.78 2.81-2.81c.8-.78.8-2.07 0-2.86zM5.41 20L4 18.59l7.72-7.72 1.47 1.35L5.41 20z\"/>\n",
              "  </svg>\n",
              "      </button>\n",
              "      \n",
              "  <style>\n",
              "    .colab-df-container {\n",
              "      display:flex;\n",
              "      flex-wrap:wrap;\n",
              "      gap: 12px;\n",
              "    }\n",
              "\n",
              "    .colab-df-convert {\n",
              "      background-color: #E8F0FE;\n",
              "      border: none;\n",
              "      border-radius: 50%;\n",
              "      cursor: pointer;\n",
              "      display: none;\n",
              "      fill: #1967D2;\n",
              "      height: 32px;\n",
              "      padding: 0 0 0 0;\n",
              "      width: 32px;\n",
              "    }\n",
              "\n",
              "    .colab-df-convert:hover {\n",
              "      background-color: #E2EBFA;\n",
              "      box-shadow: 0px 1px 2px rgba(60, 64, 67, 0.3), 0px 1px 3px 1px rgba(60, 64, 67, 0.15);\n",
              "      fill: #174EA6;\n",
              "    }\n",
              "\n",
              "    [theme=dark] .colab-df-convert {\n",
              "      background-color: #3B4455;\n",
              "      fill: #D2E3FC;\n",
              "    }\n",
              "\n",
              "    [theme=dark] .colab-df-convert:hover {\n",
              "      background-color: #434B5C;\n",
              "      box-shadow: 0px 1px 3px 1px rgba(0, 0, 0, 0.15);\n",
              "      filter: drop-shadow(0px 1px 2px rgba(0, 0, 0, 0.3));\n",
              "      fill: #FFFFFF;\n",
              "    }\n",
              "  </style>\n",
              "\n",
              "      <script>\n",
              "        const buttonEl =\n",
              "          document.querySelector('#df-c94c4da2-582d-416f-8134-47cf5cfb57cd button.colab-df-convert');\n",
              "        buttonEl.style.display =\n",
              "          google.colab.kernel.accessAllowed ? 'block' : 'none';\n",
              "\n",
              "        async function convertToInteractive(key) {\n",
              "          const element = document.querySelector('#df-c94c4da2-582d-416f-8134-47cf5cfb57cd');\n",
              "          const dataTable =\n",
              "            await google.colab.kernel.invokeFunction('convertToInteractive',\n",
              "                                                     [key], {});\n",
              "          if (!dataTable) return;\n",
              "\n",
              "          const docLinkHtml = 'Like what you see? Visit the ' +\n",
              "            '<a target=\"_blank\" href=https://colab.research.google.com/notebooks/data_table.ipynb>data table notebook</a>'\n",
              "            + ' to learn more about interactive tables.';\n",
              "          element.innerHTML = '';\n",
              "          dataTable['output_type'] = 'display_data';\n",
              "          await google.colab.output.renderOutput(dataTable, element);\n",
              "          const docLink = document.createElement('div');\n",
              "          docLink.innerHTML = docLinkHtml;\n",
              "          element.appendChild(docLink);\n",
              "        }\n",
              "      </script>\n",
              "    </div>\n",
              "  </div>\n",
              "  "
            ]
          },
          "metadata": {},
          "execution_count": 18
        }
      ]
    },
    {
      "cell_type": "code",
      "source": [
        "# Function takes in a name_value and finds the year.\n",
        "# Converts year into integer and returns in.\n",
        "def find_year(name_value):\n",
        "    try:\n",
        "        new_value = \"\"\n",
        "        start_idx = name_value.find(\"(\") + 1 \n",
        "        end_idx = start_idx + 4\n",
        "        new_value = name_value[start_idx : end_idx]\n",
        "        new_value = int(new_value)\n",
        "        return new_value\n",
        "    except:\n",
        "        return None\n",
        "\n",
        "# This is the transformer that converts name to year using the `find_year` function\n",
        "def year_transformer(data_frame):\n",
        "    \"\"\"This transformer applies the `find_year` function to the `name` column\n",
        "    and then creates a new column `year` with these values. `name` is then dropped\n",
        "    as well as null values.\"\"\"\n",
        "    data_frame['year'] = data_frame['name'].apply(find_year)\n",
        "    data_frame = data_frame.drop(columns=['name'])\n",
        "    data_frame = data_frame.dropna()\n",
        "\n",
        "    return data_frame\n",
        "    \n",
        "# Example to test find_year()\n",
        "print(find_year(\"277475 (2015 WK4)\"))  # should return -> 2015\n",
        "print(type(find_year(\"277475 (2015 WK4)\")))     # should return -> <class 'int'>\n",
        "\n",
        "# Example to test year_transformer()\n",
        "df = pd.DataFrame(columns=['name'], data=[[\"277475 (2015 WK4)\"], [\"277475 (2000 WK4)\"]])\n",
        "year_transformer(df) # should return [[2015],[2000]]"
      ],
      "metadata": {
        "id": "1VvPXeU9-G6m",
        "outputId": "48bfc675-9f6c-4988-8e0a-42c4f1a837e3",
        "colab": {
          "base_uri": "https://localhost:8080/",
          "height": 147
        }
      },
      "execution_count": 19,
      "outputs": [
        {
          "output_type": "stream",
          "name": "stdout",
          "text": [
            "2015\n",
            "<class 'int'>\n"
          ]
        },
        {
          "output_type": "execute_result",
          "data": {
            "text/plain": [
              "   year\n",
              "0  2015\n",
              "1  2000"
            ],
            "text/html": [
              "\n",
              "  <div id=\"df-ad29bcfb-77f8-4eac-9640-4c8d0edea735\">\n",
              "    <div class=\"colab-df-container\">\n",
              "      <div>\n",
              "<style scoped>\n",
              "    .dataframe tbody tr th:only-of-type {\n",
              "        vertical-align: middle;\n",
              "    }\n",
              "\n",
              "    .dataframe tbody tr th {\n",
              "        vertical-align: top;\n",
              "    }\n",
              "\n",
              "    .dataframe thead th {\n",
              "        text-align: right;\n",
              "    }\n",
              "</style>\n",
              "<table border=\"1\" class=\"dataframe\">\n",
              "  <thead>\n",
              "    <tr style=\"text-align: right;\">\n",
              "      <th></th>\n",
              "      <th>year</th>\n",
              "    </tr>\n",
              "  </thead>\n",
              "  <tbody>\n",
              "    <tr>\n",
              "      <th>0</th>\n",
              "      <td>2015</td>\n",
              "    </tr>\n",
              "    <tr>\n",
              "      <th>1</th>\n",
              "      <td>2000</td>\n",
              "    </tr>\n",
              "  </tbody>\n",
              "</table>\n",
              "</div>\n",
              "      <button class=\"colab-df-convert\" onclick=\"convertToInteractive('df-ad29bcfb-77f8-4eac-9640-4c8d0edea735')\"\n",
              "              title=\"Convert this dataframe to an interactive table.\"\n",
              "              style=\"display:none;\">\n",
              "        \n",
              "  <svg xmlns=\"http://www.w3.org/2000/svg\" height=\"24px\"viewBox=\"0 0 24 24\"\n",
              "       width=\"24px\">\n",
              "    <path d=\"M0 0h24v24H0V0z\" fill=\"none\"/>\n",
              "    <path d=\"M18.56 5.44l.94 2.06.94-2.06 2.06-.94-2.06-.94-.94-2.06-.94 2.06-2.06.94zm-11 1L8.5 8.5l.94-2.06 2.06-.94-2.06-.94L8.5 2.5l-.94 2.06-2.06.94zm10 10l.94 2.06.94-2.06 2.06-.94-2.06-.94-.94-2.06-.94 2.06-2.06.94z\"/><path d=\"M17.41 7.96l-1.37-1.37c-.4-.4-.92-.59-1.43-.59-.52 0-1.04.2-1.43.59L10.3 9.45l-7.72 7.72c-.78.78-.78 2.05 0 2.83L4 21.41c.39.39.9.59 1.41.59.51 0 1.02-.2 1.41-.59l7.78-7.78 2.81-2.81c.8-.78.8-2.07 0-2.86zM5.41 20L4 18.59l7.72-7.72 1.47 1.35L5.41 20z\"/>\n",
              "  </svg>\n",
              "      </button>\n",
              "      \n",
              "  <style>\n",
              "    .colab-df-container {\n",
              "      display:flex;\n",
              "      flex-wrap:wrap;\n",
              "      gap: 12px;\n",
              "    }\n",
              "\n",
              "    .colab-df-convert {\n",
              "      background-color: #E8F0FE;\n",
              "      border: none;\n",
              "      border-radius: 50%;\n",
              "      cursor: pointer;\n",
              "      display: none;\n",
              "      fill: #1967D2;\n",
              "      height: 32px;\n",
              "      padding: 0 0 0 0;\n",
              "      width: 32px;\n",
              "    }\n",
              "\n",
              "    .colab-df-convert:hover {\n",
              "      background-color: #E2EBFA;\n",
              "      box-shadow: 0px 1px 2px rgba(60, 64, 67, 0.3), 0px 1px 3px 1px rgba(60, 64, 67, 0.15);\n",
              "      fill: #174EA6;\n",
              "    }\n",
              "\n",
              "    [theme=dark] .colab-df-convert {\n",
              "      background-color: #3B4455;\n",
              "      fill: #D2E3FC;\n",
              "    }\n",
              "\n",
              "    [theme=dark] .colab-df-convert:hover {\n",
              "      background-color: #434B5C;\n",
              "      box-shadow: 0px 1px 3px 1px rgba(0, 0, 0, 0.15);\n",
              "      filter: drop-shadow(0px 1px 2px rgba(0, 0, 0, 0.3));\n",
              "      fill: #FFFFFF;\n",
              "    }\n",
              "  </style>\n",
              "\n",
              "      <script>\n",
              "        const buttonEl =\n",
              "          document.querySelector('#df-ad29bcfb-77f8-4eac-9640-4c8d0edea735 button.colab-df-convert');\n",
              "        buttonEl.style.display =\n",
              "          google.colab.kernel.accessAllowed ? 'block' : 'none';\n",
              "\n",
              "        async function convertToInteractive(key) {\n",
              "          const element = document.querySelector('#df-ad29bcfb-77f8-4eac-9640-4c8d0edea735');\n",
              "          const dataTable =\n",
              "            await google.colab.kernel.invokeFunction('convertToInteractive',\n",
              "                                                     [key], {});\n",
              "          if (!dataTable) return;\n",
              "\n",
              "          const docLinkHtml = 'Like what you see? Visit the ' +\n",
              "            '<a target=\"_blank\" href=https://colab.research.google.com/notebooks/data_table.ipynb>data table notebook</a>'\n",
              "            + ' to learn more about interactive tables.';\n",
              "          element.innerHTML = '';\n",
              "          dataTable['output_type'] = 'display_data';\n",
              "          await google.colab.output.renderOutput(dataTable, element);\n",
              "          const docLink = document.createElement('div');\n",
              "          docLink.innerHTML = docLinkHtml;\n",
              "          element.appendChild(docLink);\n",
              "        }\n",
              "      </script>\n",
              "    </div>\n",
              "  </div>\n",
              "  "
            ]
          },
          "metadata": {},
          "execution_count": 19
        }
      ]
    },
    {
      "cell_type": "markdown",
      "source": [
        "#### Feature Engineering Pipeline\n",
        "I will construct a pipeline for my feature engineering. This will belong in the beginning of the entire preprocessing pipeline."
      ],
      "metadata": {
        "id": "5iy4d3n_HXJt"
      }
    },
    {
      "cell_type": "code",
      "source": [
        "est_diameter_pipe = Pipeline([(\"diameter_tf\", FunctionTransformer(combine_est_diameter))])\n",
        "year_pipe = Pipeline([(\"year_tf\", FunctionTransformer(year_transformer))])\n",
        "\n",
        "feat_eng = Pipeline([(\"diameter\", est_diameter_pipe),\n",
        "                     (\"year\", year_pipe)])\n",
        "\n",
        "dropper_pipe = ColumnTransformer([(\"dropper\", \"drop\", [\"orbiting_body\", \"sentry_object\", \"id\"])])"
      ],
      "metadata": {
        "id": "UobZbz5tWpzR"
      },
      "execution_count": 33,
      "outputs": []
    },
    {
      "cell_type": "markdown",
      "source": [
        "### Train/Test Split\n",
        "\n",
        "The dataset contains just over 90,000 datapoints. I will randomly select 40,000 (44%) for training and 40,000 (44%)for testing. I'll then reserve the remaining 10,000+ (12%) for my golden holdout."
      ],
      "metadata": {
        "id": "nawrgM2LCG0y"
      }
    },
    {
      "cell_type": "code",
      "source": [
        "# Perform Train/Test split\n",
        "class_col = 'hazardous'\n",
        "random_seed = 1234\n",
        "\n",
        "X_train, X_test, y_train, y_test = train_test_split(neos.drop(columns=class_col), neos[class_col],\n",
        "                                                   test_size=0.44, train_size= 0.44, random_state=random_seed, stratify=neos[class_col])"
      ],
      "metadata": {
        "id": "nueRrpy0eaVc"
      },
      "execution_count": 21,
      "outputs": []
    },
    {
      "cell_type": "code",
      "source": [
        "# Check dimensions of X\n",
        "# X Train\n",
        "print('On X train: ')\n",
        "print('X train dimensions: ', X_train.shape)\n",
        "display(X_train.head())\n",
        "\n",
        "# X test\n",
        "print('\\nOn X test: ')\n",
        "print('X test dimensions: ', X_test.shape)\n",
        "display(X_test.head())"
      ],
      "metadata": {
        "id": "5TfMYfhcg-ax",
        "outputId": "c639705b-202c-4cfb-c5fc-a530bd174fae",
        "colab": {
          "base_uri": "https://localhost:8080/",
          "height": 482
        }
      },
      "execution_count": 22,
      "outputs": [
        {
          "output_type": "stream",
          "name": "stdout",
          "text": [
            "On X train: \n",
            "X train dimensions:  (39967, 9)\n"
          ]
        },
        {
          "output_type": "display_data",
          "data": {
            "text/plain": [
              "            id                name  est_diameter_min  est_diameter_max  \\\n",
              "48136  2446833  446833 (2001 RB12)          0.167708          0.375008   \n",
              "58768  3740667           (2016 BU)          0.012149          0.027167   \n",
              "1576   2249886  249886 (2001 RY11)          0.817627          1.828269   \n",
              "16737  2380929  380929 (2006 HU30)          0.321037          0.717860   \n",
              "42924  3644815         (2013 NH10)          0.063761          0.142574   \n",
              "\n",
              "       relative_velocity  miss_distance orbiting_body  sentry_object  \\\n",
              "48136       35449.205475   6.530534e+07         Earth          False   \n",
              "58768       30285.492225   5.044515e+07         Earth          False   \n",
              "1576        41502.282921   4.218968e+07         Earth          False   \n",
              "16737       44153.448899   6.596702e+07         Earth          False   \n",
              "42924       44034.483020   5.991513e+07         Earth          False   \n",
              "\n",
              "       absolute_magnitude  \n",
              "48136               21.00  \n",
              "58768               26.70  \n",
              "1576                17.56  \n",
              "16737               19.59  \n",
              "42924               23.10  "
            ],
            "text/html": [
              "\n",
              "  <div id=\"df-35e5aec5-0c50-47c5-a9d8-746466ada8e7\">\n",
              "    <div class=\"colab-df-container\">\n",
              "      <div>\n",
              "<style scoped>\n",
              "    .dataframe tbody tr th:only-of-type {\n",
              "        vertical-align: middle;\n",
              "    }\n",
              "\n",
              "    .dataframe tbody tr th {\n",
              "        vertical-align: top;\n",
              "    }\n",
              "\n",
              "    .dataframe thead th {\n",
              "        text-align: right;\n",
              "    }\n",
              "</style>\n",
              "<table border=\"1\" class=\"dataframe\">\n",
              "  <thead>\n",
              "    <tr style=\"text-align: right;\">\n",
              "      <th></th>\n",
              "      <th>id</th>\n",
              "      <th>name</th>\n",
              "      <th>est_diameter_min</th>\n",
              "      <th>est_diameter_max</th>\n",
              "      <th>relative_velocity</th>\n",
              "      <th>miss_distance</th>\n",
              "      <th>orbiting_body</th>\n",
              "      <th>sentry_object</th>\n",
              "      <th>absolute_magnitude</th>\n",
              "    </tr>\n",
              "  </thead>\n",
              "  <tbody>\n",
              "    <tr>\n",
              "      <th>48136</th>\n",
              "      <td>2446833</td>\n",
              "      <td>446833 (2001 RB12)</td>\n",
              "      <td>0.167708</td>\n",
              "      <td>0.375008</td>\n",
              "      <td>35449.205475</td>\n",
              "      <td>6.530534e+07</td>\n",
              "      <td>Earth</td>\n",
              "      <td>False</td>\n",
              "      <td>21.00</td>\n",
              "    </tr>\n",
              "    <tr>\n",
              "      <th>58768</th>\n",
              "      <td>3740667</td>\n",
              "      <td>(2016 BU)</td>\n",
              "      <td>0.012149</td>\n",
              "      <td>0.027167</td>\n",
              "      <td>30285.492225</td>\n",
              "      <td>5.044515e+07</td>\n",
              "      <td>Earth</td>\n",
              "      <td>False</td>\n",
              "      <td>26.70</td>\n",
              "    </tr>\n",
              "    <tr>\n",
              "      <th>1576</th>\n",
              "      <td>2249886</td>\n",
              "      <td>249886 (2001 RY11)</td>\n",
              "      <td>0.817627</td>\n",
              "      <td>1.828269</td>\n",
              "      <td>41502.282921</td>\n",
              "      <td>4.218968e+07</td>\n",
              "      <td>Earth</td>\n",
              "      <td>False</td>\n",
              "      <td>17.56</td>\n",
              "    </tr>\n",
              "    <tr>\n",
              "      <th>16737</th>\n",
              "      <td>2380929</td>\n",
              "      <td>380929 (2006 HU30)</td>\n",
              "      <td>0.321037</td>\n",
              "      <td>0.717860</td>\n",
              "      <td>44153.448899</td>\n",
              "      <td>6.596702e+07</td>\n",
              "      <td>Earth</td>\n",
              "      <td>False</td>\n",
              "      <td>19.59</td>\n",
              "    </tr>\n",
              "    <tr>\n",
              "      <th>42924</th>\n",
              "      <td>3644815</td>\n",
              "      <td>(2013 NH10)</td>\n",
              "      <td>0.063761</td>\n",
              "      <td>0.142574</td>\n",
              "      <td>44034.483020</td>\n",
              "      <td>5.991513e+07</td>\n",
              "      <td>Earth</td>\n",
              "      <td>False</td>\n",
              "      <td>23.10</td>\n",
              "    </tr>\n",
              "  </tbody>\n",
              "</table>\n",
              "</div>\n",
              "      <button class=\"colab-df-convert\" onclick=\"convertToInteractive('df-35e5aec5-0c50-47c5-a9d8-746466ada8e7')\"\n",
              "              title=\"Convert this dataframe to an interactive table.\"\n",
              "              style=\"display:none;\">\n",
              "        \n",
              "  <svg xmlns=\"http://www.w3.org/2000/svg\" height=\"24px\"viewBox=\"0 0 24 24\"\n",
              "       width=\"24px\">\n",
              "    <path d=\"M0 0h24v24H0V0z\" fill=\"none\"/>\n",
              "    <path d=\"M18.56 5.44l.94 2.06.94-2.06 2.06-.94-2.06-.94-.94-2.06-.94 2.06-2.06.94zm-11 1L8.5 8.5l.94-2.06 2.06-.94-2.06-.94L8.5 2.5l-.94 2.06-2.06.94zm10 10l.94 2.06.94-2.06 2.06-.94-2.06-.94-.94-2.06-.94 2.06-2.06.94z\"/><path d=\"M17.41 7.96l-1.37-1.37c-.4-.4-.92-.59-1.43-.59-.52 0-1.04.2-1.43.59L10.3 9.45l-7.72 7.72c-.78.78-.78 2.05 0 2.83L4 21.41c.39.39.9.59 1.41.59.51 0 1.02-.2 1.41-.59l7.78-7.78 2.81-2.81c.8-.78.8-2.07 0-2.86zM5.41 20L4 18.59l7.72-7.72 1.47 1.35L5.41 20z\"/>\n",
              "  </svg>\n",
              "      </button>\n",
              "      \n",
              "  <style>\n",
              "    .colab-df-container {\n",
              "      display:flex;\n",
              "      flex-wrap:wrap;\n",
              "      gap: 12px;\n",
              "    }\n",
              "\n",
              "    .colab-df-convert {\n",
              "      background-color: #E8F0FE;\n",
              "      border: none;\n",
              "      border-radius: 50%;\n",
              "      cursor: pointer;\n",
              "      display: none;\n",
              "      fill: #1967D2;\n",
              "      height: 32px;\n",
              "      padding: 0 0 0 0;\n",
              "      width: 32px;\n",
              "    }\n",
              "\n",
              "    .colab-df-convert:hover {\n",
              "      background-color: #E2EBFA;\n",
              "      box-shadow: 0px 1px 2px rgba(60, 64, 67, 0.3), 0px 1px 3px 1px rgba(60, 64, 67, 0.15);\n",
              "      fill: #174EA6;\n",
              "    }\n",
              "\n",
              "    [theme=dark] .colab-df-convert {\n",
              "      background-color: #3B4455;\n",
              "      fill: #D2E3FC;\n",
              "    }\n",
              "\n",
              "    [theme=dark] .colab-df-convert:hover {\n",
              "      background-color: #434B5C;\n",
              "      box-shadow: 0px 1px 3px 1px rgba(0, 0, 0, 0.15);\n",
              "      filter: drop-shadow(0px 1px 2px rgba(0, 0, 0, 0.3));\n",
              "      fill: #FFFFFF;\n",
              "    }\n",
              "  </style>\n",
              "\n",
              "      <script>\n",
              "        const buttonEl =\n",
              "          document.querySelector('#df-35e5aec5-0c50-47c5-a9d8-746466ada8e7 button.colab-df-convert');\n",
              "        buttonEl.style.display =\n",
              "          google.colab.kernel.accessAllowed ? 'block' : 'none';\n",
              "\n",
              "        async function convertToInteractive(key) {\n",
              "          const element = document.querySelector('#df-35e5aec5-0c50-47c5-a9d8-746466ada8e7');\n",
              "          const dataTable =\n",
              "            await google.colab.kernel.invokeFunction('convertToInteractive',\n",
              "                                                     [key], {});\n",
              "          if (!dataTable) return;\n",
              "\n",
              "          const docLinkHtml = 'Like what you see? Visit the ' +\n",
              "            '<a target=\"_blank\" href=https://colab.research.google.com/notebooks/data_table.ipynb>data table notebook</a>'\n",
              "            + ' to learn more about interactive tables.';\n",
              "          element.innerHTML = '';\n",
              "          dataTable['output_type'] = 'display_data';\n",
              "          await google.colab.output.renderOutput(dataTable, element);\n",
              "          const docLink = document.createElement('div');\n",
              "          docLink.innerHTML = docLinkHtml;\n",
              "          element.appendChild(docLink);\n",
              "        }\n",
              "      </script>\n",
              "    </div>\n",
              "  </div>\n",
              "  "
            ]
          },
          "metadata": {}
        },
        {
          "output_type": "stream",
          "name": "stdout",
          "text": [
            "\n",
            "On X test: \n",
            "X test dimensions:  (39968, 9)\n"
          ]
        },
        {
          "output_type": "display_data",
          "data": {
            "text/plain": [
              "             id         name  est_diameter_min  est_diameter_max  \\\n",
              "50018   3799259  (2017 UR52)          0.152952          0.342011   \n",
              "83347   3536591   (2010 NG1)          0.232571          0.520044   \n",
              "44090   3759719   (2016 SY1)          0.011603          0.025944   \n",
              "74407  54016809   (2020 HW7)          0.010105          0.022596   \n",
              "80218  54050980   (2020 PB1)          0.167708          0.375008   \n",
              "\n",
              "       relative_velocity  miss_distance orbiting_body  sentry_object  \\\n",
              "50018      194056.414989   4.888464e+07         Earth          False   \n",
              "83347       63647.376068   4.830891e+07         Earth          False   \n",
              "44090       55686.275337   1.277171e+06         Earth          False   \n",
              "74407       27892.028691   7.104528e+07         Earth          False   \n",
              "80218       58749.031927   4.584174e+07         Earth          False   \n",
              "\n",
              "       absolute_magnitude  \n",
              "50018               21.20  \n",
              "83347               20.29  \n",
              "44090               26.80  \n",
              "74407               27.10  \n",
              "80218               21.00  "
            ],
            "text/html": [
              "\n",
              "  <div id=\"df-4b05d10d-792f-4605-b926-ca3e5764d867\">\n",
              "    <div class=\"colab-df-container\">\n",
              "      <div>\n",
              "<style scoped>\n",
              "    .dataframe tbody tr th:only-of-type {\n",
              "        vertical-align: middle;\n",
              "    }\n",
              "\n",
              "    .dataframe tbody tr th {\n",
              "        vertical-align: top;\n",
              "    }\n",
              "\n",
              "    .dataframe thead th {\n",
              "        text-align: right;\n",
              "    }\n",
              "</style>\n",
              "<table border=\"1\" class=\"dataframe\">\n",
              "  <thead>\n",
              "    <tr style=\"text-align: right;\">\n",
              "      <th></th>\n",
              "      <th>id</th>\n",
              "      <th>name</th>\n",
              "      <th>est_diameter_min</th>\n",
              "      <th>est_diameter_max</th>\n",
              "      <th>relative_velocity</th>\n",
              "      <th>miss_distance</th>\n",
              "      <th>orbiting_body</th>\n",
              "      <th>sentry_object</th>\n",
              "      <th>absolute_magnitude</th>\n",
              "    </tr>\n",
              "  </thead>\n",
              "  <tbody>\n",
              "    <tr>\n",
              "      <th>50018</th>\n",
              "      <td>3799259</td>\n",
              "      <td>(2017 UR52)</td>\n",
              "      <td>0.152952</td>\n",
              "      <td>0.342011</td>\n",
              "      <td>194056.414989</td>\n",
              "      <td>4.888464e+07</td>\n",
              "      <td>Earth</td>\n",
              "      <td>False</td>\n",
              "      <td>21.20</td>\n",
              "    </tr>\n",
              "    <tr>\n",
              "      <th>83347</th>\n",
              "      <td>3536591</td>\n",
              "      <td>(2010 NG1)</td>\n",
              "      <td>0.232571</td>\n",
              "      <td>0.520044</td>\n",
              "      <td>63647.376068</td>\n",
              "      <td>4.830891e+07</td>\n",
              "      <td>Earth</td>\n",
              "      <td>False</td>\n",
              "      <td>20.29</td>\n",
              "    </tr>\n",
              "    <tr>\n",
              "      <th>44090</th>\n",
              "      <td>3759719</td>\n",
              "      <td>(2016 SY1)</td>\n",
              "      <td>0.011603</td>\n",
              "      <td>0.025944</td>\n",
              "      <td>55686.275337</td>\n",
              "      <td>1.277171e+06</td>\n",
              "      <td>Earth</td>\n",
              "      <td>False</td>\n",
              "      <td>26.80</td>\n",
              "    </tr>\n",
              "    <tr>\n",
              "      <th>74407</th>\n",
              "      <td>54016809</td>\n",
              "      <td>(2020 HW7)</td>\n",
              "      <td>0.010105</td>\n",
              "      <td>0.022596</td>\n",
              "      <td>27892.028691</td>\n",
              "      <td>7.104528e+07</td>\n",
              "      <td>Earth</td>\n",
              "      <td>False</td>\n",
              "      <td>27.10</td>\n",
              "    </tr>\n",
              "    <tr>\n",
              "      <th>80218</th>\n",
              "      <td>54050980</td>\n",
              "      <td>(2020 PB1)</td>\n",
              "      <td>0.167708</td>\n",
              "      <td>0.375008</td>\n",
              "      <td>58749.031927</td>\n",
              "      <td>4.584174e+07</td>\n",
              "      <td>Earth</td>\n",
              "      <td>False</td>\n",
              "      <td>21.00</td>\n",
              "    </tr>\n",
              "  </tbody>\n",
              "</table>\n",
              "</div>\n",
              "      <button class=\"colab-df-convert\" onclick=\"convertToInteractive('df-4b05d10d-792f-4605-b926-ca3e5764d867')\"\n",
              "              title=\"Convert this dataframe to an interactive table.\"\n",
              "              style=\"display:none;\">\n",
              "        \n",
              "  <svg xmlns=\"http://www.w3.org/2000/svg\" height=\"24px\"viewBox=\"0 0 24 24\"\n",
              "       width=\"24px\">\n",
              "    <path d=\"M0 0h24v24H0V0z\" fill=\"none\"/>\n",
              "    <path d=\"M18.56 5.44l.94 2.06.94-2.06 2.06-.94-2.06-.94-.94-2.06-.94 2.06-2.06.94zm-11 1L8.5 8.5l.94-2.06 2.06-.94-2.06-.94L8.5 2.5l-.94 2.06-2.06.94zm10 10l.94 2.06.94-2.06 2.06-.94-2.06-.94-.94-2.06-.94 2.06-2.06.94z\"/><path d=\"M17.41 7.96l-1.37-1.37c-.4-.4-.92-.59-1.43-.59-.52 0-1.04.2-1.43.59L10.3 9.45l-7.72 7.72c-.78.78-.78 2.05 0 2.83L4 21.41c.39.39.9.59 1.41.59.51 0 1.02-.2 1.41-.59l7.78-7.78 2.81-2.81c.8-.78.8-2.07 0-2.86zM5.41 20L4 18.59l7.72-7.72 1.47 1.35L5.41 20z\"/>\n",
              "  </svg>\n",
              "      </button>\n",
              "      \n",
              "  <style>\n",
              "    .colab-df-container {\n",
              "      display:flex;\n",
              "      flex-wrap:wrap;\n",
              "      gap: 12px;\n",
              "    }\n",
              "\n",
              "    .colab-df-convert {\n",
              "      background-color: #E8F0FE;\n",
              "      border: none;\n",
              "      border-radius: 50%;\n",
              "      cursor: pointer;\n",
              "      display: none;\n",
              "      fill: #1967D2;\n",
              "      height: 32px;\n",
              "      padding: 0 0 0 0;\n",
              "      width: 32px;\n",
              "    }\n",
              "\n",
              "    .colab-df-convert:hover {\n",
              "      background-color: #E2EBFA;\n",
              "      box-shadow: 0px 1px 2px rgba(60, 64, 67, 0.3), 0px 1px 3px 1px rgba(60, 64, 67, 0.15);\n",
              "      fill: #174EA6;\n",
              "    }\n",
              "\n",
              "    [theme=dark] .colab-df-convert {\n",
              "      background-color: #3B4455;\n",
              "      fill: #D2E3FC;\n",
              "    }\n",
              "\n",
              "    [theme=dark] .colab-df-convert:hover {\n",
              "      background-color: #434B5C;\n",
              "      box-shadow: 0px 1px 3px 1px rgba(0, 0, 0, 0.15);\n",
              "      filter: drop-shadow(0px 1px 2px rgba(0, 0, 0, 0.3));\n",
              "      fill: #FFFFFF;\n",
              "    }\n",
              "  </style>\n",
              "\n",
              "      <script>\n",
              "        const buttonEl =\n",
              "          document.querySelector('#df-4b05d10d-792f-4605-b926-ca3e5764d867 button.colab-df-convert');\n",
              "        buttonEl.style.display =\n",
              "          google.colab.kernel.accessAllowed ? 'block' : 'none';\n",
              "\n",
              "        async function convertToInteractive(key) {\n",
              "          const element = document.querySelector('#df-4b05d10d-792f-4605-b926-ca3e5764d867');\n",
              "          const dataTable =\n",
              "            await google.colab.kernel.invokeFunction('convertToInteractive',\n",
              "                                                     [key], {});\n",
              "          if (!dataTable) return;\n",
              "\n",
              "          const docLinkHtml = 'Like what you see? Visit the ' +\n",
              "            '<a target=\"_blank\" href=https://colab.research.google.com/notebooks/data_table.ipynb>data table notebook</a>'\n",
              "            + ' to learn more about interactive tables.';\n",
              "          element.innerHTML = '';\n",
              "          dataTable['output_type'] = 'display_data';\n",
              "          await google.colab.output.renderOutput(dataTable, element);\n",
              "          const docLink = document.createElement('div');\n",
              "          docLink.innerHTML = docLinkHtml;\n",
              "          element.appendChild(docLink);\n",
              "        }\n",
              "      </script>\n",
              "    </div>\n",
              "  </div>\n",
              "  "
            ]
          },
          "metadata": {}
        }
      ]
    },
    {
      "cell_type": "code",
      "source": [
        "# Check dimensions of Y\n",
        "# Y Train\n",
        "print('On y train: ')\n",
        "print('y train dimensions: ', y_train.shape)\n",
        "display(y_train.head())\n",
        "\n",
        "# Y test\n",
        "print('\\nOn y test: ')\n",
        "print('y test dimensions: ', y_test.shape)\n",
        "display(y_test.head())"
      ],
      "metadata": {
        "id": "0gvRpANmhkDd",
        "outputId": "8d4777a7-a614-44aa-82a2-3d481e74edca",
        "colab": {
          "base_uri": "https://localhost:8080/",
          "height": 312
        }
      },
      "execution_count": 23,
      "outputs": [
        {
          "output_type": "stream",
          "name": "stdout",
          "text": [
            "On y train: \n",
            "y train dimensions:  (39967,)\n"
          ]
        },
        {
          "output_type": "display_data",
          "data": {
            "text/plain": [
              "48136    False\n",
              "58768    False\n",
              "1576     False\n",
              "16737    False\n",
              "42924    False\n",
              "Name: hazardous, dtype: bool"
            ]
          },
          "metadata": {}
        },
        {
          "output_type": "stream",
          "name": "stdout",
          "text": [
            "\n",
            "On y test: \n",
            "y test dimensions:  (39968,)\n"
          ]
        },
        {
          "output_type": "display_data",
          "data": {
            "text/plain": [
              "50018    False\n",
              "83347    False\n",
              "44090    False\n",
              "74407    False\n",
              "80218     True\n",
              "Name: hazardous, dtype: bool"
            ]
          },
          "metadata": {}
        }
      ]
    },
    {
      "cell_type": "markdown",
      "source": [
        "### Pipeline\n",
        "\n",
        "Considering my data have no missing values, I won't need any imputation pipelines. Since my only non-numerical column will be a binary column value there will be no use for one hot encoding. However, a few features had some extreme outliers so I will consider using a scaler such as `RobustScaler` or `StandardScaler` to normalize the data. The problem I'm solving is a binary classification problem, so I will first implement with a Logistic Regression classification model."
      ],
      "metadata": {
        "id": "71Jo7hMGFx_t"
      }
    },
    {
      "cell_type": "code",
      "source": [
        "# Build pipe for handling numerical and categorical data\n",
        "\n",
        "num_pipeline = Pipeline(steps=[('scale_num', StandardScaler())])\n",
        "\n",
        "cat_pipeline = Pipeline(steps=[('cat_impute', SimpleImputer(missing_values=np.nan, strategy='most_frequent'))])"
      ],
      "metadata": {
        "id": "hnW2sXi5mXFB"
      },
      "execution_count": 24,
      "outputs": []
    },
    {
      "cell_type": "code",
      "source": [
        "# Establish preprocessing pipe via column transformer\n",
        "\n",
        "preproc = ColumnTransformer([('num_pipe', num_pipeline, make_column_selector(dtype_include=np.number)),\n",
        "                             ('cat_pipe', cat_pipeline, make_column_selector(dtype_include=object))],\n",
        "                             remainder='passthrough')"
      ],
      "metadata": {
        "id": "DMt64hfmnPoT"
      },
      "execution_count": 25,
      "outputs": []
    },
    {
      "cell_type": "markdown",
      "source": [
        "#### Logistic Regression Pipeline"
      ],
      "metadata": {
        "id": "NLe6P9OgS2Xq"
      }
    },
    {
      "cell_type": "code",
      "source": [
        "# Generate pipeline for logistic regression model\n",
        "logistic_regression_pipe = Pipeline(steps=[\n",
        "                       ('Dropper', dropper_pipe) ,\n",
        "                       ('FeatureEngineering', feat_eng),\n",
        "                       ('PreProcessing', preproc),\n",
        "                       ('mdl', LogisticRegression(penalty='elasticnet', solver='saga', tol=0.01))])\n",
        "\n",
        "# visualization of the pipeline\n",
        "with config_context(display='diagram'):\n",
        "    display(logistic_regression_pipe)"
      ],
      "metadata": {
        "id": "WF7WyoR5oDfT",
        "outputId": "7ad878f0-0f81-4242-fd5a-299093377b21",
        "colab": {
          "base_uri": "https://localhost:8080/",
          "height": 438
        }
      },
      "execution_count": 34,
      "outputs": [
        {
          "output_type": "display_data",
          "data": {
            "text/plain": [
              "Pipeline(steps=[('Dropper',\n",
              "                 ColumnTransformer(transformers=[('dropper', 'drop',\n",
              "                                                  ['orbiting_body',\n",
              "                                                   'sentry_object', 'id'])])),\n",
              "                ('FeatureEngineering',\n",
              "                 Pipeline(steps=[('diameter',\n",
              "                                  Pipeline(steps=[('diameter_tf',\n",
              "                                                   FunctionTransformer(func=<function combine_est_diameter at 0x7fc5d558df80>))])),\n",
              "                                 ('year',\n",
              "                                  Pipeline(steps=[('year_tf',\n",
              "                                                   FunctionTransformer(func=<function yea...\n",
              "                                                  Pipeline(steps=[('scale_num',\n",
              "                                                                   StandardScaler())]),\n",
              "                                                  <sklearn.compose._column_transformer.make_column_selector object at 0x7fc5d542fdd0>),\n",
              "                                                 ('cat_pipe',\n",
              "                                                  Pipeline(steps=[('cat_impute',\n",
              "                                                                   SimpleImputer(strategy='most_frequent'))]),\n",
              "                                                  <sklearn.compose._column_transformer.make_column_selector object at 0x7fc5d542f390>)])),\n",
              "                ('mdl',\n",
              "                 LogisticRegression(penalty='elasticnet', solver='saga',\n",
              "                                    tol=0.01))])"
            ],
            "text/html": [
              "<style>#sk-c9064a99-fa4e-43d7-a964-614e3f027c06 {color: black;background-color: white;}#sk-c9064a99-fa4e-43d7-a964-614e3f027c06 pre{padding: 0;}#sk-c9064a99-fa4e-43d7-a964-614e3f027c06 div.sk-toggleable {background-color: white;}#sk-c9064a99-fa4e-43d7-a964-614e3f027c06 label.sk-toggleable__label {cursor: pointer;display: block;width: 100%;margin-bottom: 0;padding: 0.3em;box-sizing: border-box;text-align: center;}#sk-c9064a99-fa4e-43d7-a964-614e3f027c06 label.sk-toggleable__label-arrow:before {content: \"▸\";float: left;margin-right: 0.25em;color: #696969;}#sk-c9064a99-fa4e-43d7-a964-614e3f027c06 label.sk-toggleable__label-arrow:hover:before {color: black;}#sk-c9064a99-fa4e-43d7-a964-614e3f027c06 div.sk-estimator:hover label.sk-toggleable__label-arrow:before {color: black;}#sk-c9064a99-fa4e-43d7-a964-614e3f027c06 div.sk-toggleable__content {max-height: 0;max-width: 0;overflow: hidden;text-align: left;background-color: #f0f8ff;}#sk-c9064a99-fa4e-43d7-a964-614e3f027c06 div.sk-toggleable__content pre {margin: 0.2em;color: black;border-radius: 0.25em;background-color: #f0f8ff;}#sk-c9064a99-fa4e-43d7-a964-614e3f027c06 input.sk-toggleable__control:checked~div.sk-toggleable__content {max-height: 200px;max-width: 100%;overflow: auto;}#sk-c9064a99-fa4e-43d7-a964-614e3f027c06 input.sk-toggleable__control:checked~label.sk-toggleable__label-arrow:before {content: \"▾\";}#sk-c9064a99-fa4e-43d7-a964-614e3f027c06 div.sk-estimator input.sk-toggleable__control:checked~label.sk-toggleable__label {background-color: #d4ebff;}#sk-c9064a99-fa4e-43d7-a964-614e3f027c06 div.sk-label input.sk-toggleable__control:checked~label.sk-toggleable__label {background-color: #d4ebff;}#sk-c9064a99-fa4e-43d7-a964-614e3f027c06 input.sk-hidden--visually {border: 0;clip: rect(1px 1px 1px 1px);clip: rect(1px, 1px, 1px, 1px);height: 1px;margin: -1px;overflow: hidden;padding: 0;position: absolute;width: 1px;}#sk-c9064a99-fa4e-43d7-a964-614e3f027c06 div.sk-estimator {font-family: monospace;background-color: #f0f8ff;border: 1px dotted black;border-radius: 0.25em;box-sizing: border-box;margin-bottom: 0.5em;}#sk-c9064a99-fa4e-43d7-a964-614e3f027c06 div.sk-estimator:hover {background-color: #d4ebff;}#sk-c9064a99-fa4e-43d7-a964-614e3f027c06 div.sk-parallel-item::after {content: \"\";width: 100%;border-bottom: 1px solid gray;flex-grow: 1;}#sk-c9064a99-fa4e-43d7-a964-614e3f027c06 div.sk-label:hover label.sk-toggleable__label {background-color: #d4ebff;}#sk-c9064a99-fa4e-43d7-a964-614e3f027c06 div.sk-serial::before {content: \"\";position: absolute;border-left: 1px solid gray;box-sizing: border-box;top: 2em;bottom: 0;left: 50%;}#sk-c9064a99-fa4e-43d7-a964-614e3f027c06 div.sk-serial {display: flex;flex-direction: column;align-items: center;background-color: white;padding-right: 0.2em;padding-left: 0.2em;}#sk-c9064a99-fa4e-43d7-a964-614e3f027c06 div.sk-item {z-index: 1;}#sk-c9064a99-fa4e-43d7-a964-614e3f027c06 div.sk-parallel {display: flex;align-items: stretch;justify-content: center;background-color: white;}#sk-c9064a99-fa4e-43d7-a964-614e3f027c06 div.sk-parallel::before {content: \"\";position: absolute;border-left: 1px solid gray;box-sizing: border-box;top: 2em;bottom: 0;left: 50%;}#sk-c9064a99-fa4e-43d7-a964-614e3f027c06 div.sk-parallel-item {display: flex;flex-direction: column;position: relative;background-color: white;}#sk-c9064a99-fa4e-43d7-a964-614e3f027c06 div.sk-parallel-item:first-child::after {align-self: flex-end;width: 50%;}#sk-c9064a99-fa4e-43d7-a964-614e3f027c06 div.sk-parallel-item:last-child::after {align-self: flex-start;width: 50%;}#sk-c9064a99-fa4e-43d7-a964-614e3f027c06 div.sk-parallel-item:only-child::after {width: 0;}#sk-c9064a99-fa4e-43d7-a964-614e3f027c06 div.sk-dashed-wrapped {border: 1px dashed gray;margin: 0 0.4em 0.5em 0.4em;box-sizing: border-box;padding-bottom: 0.4em;background-color: white;position: relative;}#sk-c9064a99-fa4e-43d7-a964-614e3f027c06 div.sk-label label {font-family: monospace;font-weight: bold;background-color: white;display: inline-block;line-height: 1.2em;}#sk-c9064a99-fa4e-43d7-a964-614e3f027c06 div.sk-label-container {position: relative;z-index: 2;text-align: center;}#sk-c9064a99-fa4e-43d7-a964-614e3f027c06 div.sk-container {/* jupyter's `normalize.less` sets `[hidden] { display: none; }` but bootstrap.min.css set `[hidden] { display: none !important; }` so we also need the `!important` here to be able to override the default hidden behavior on the sphinx rendered scikit-learn.org. See: https://github.com/scikit-learn/scikit-learn/issues/21755 */display: inline-block !important;position: relative;}#sk-c9064a99-fa4e-43d7-a964-614e3f027c06 div.sk-text-repr-fallback {display: none;}</style><div id=\"sk-c9064a99-fa4e-43d7-a964-614e3f027c06\" class=\"sk-top-container\"><div class=\"sk-text-repr-fallback\"><pre>Pipeline(steps=[(&#x27;Dropper&#x27;,\n",
              "                 ColumnTransformer(transformers=[(&#x27;dropper&#x27;, &#x27;drop&#x27;,\n",
              "                                                  [&#x27;orbiting_body&#x27;,\n",
              "                                                   &#x27;sentry_object&#x27;, &#x27;id&#x27;])])),\n",
              "                (&#x27;FeatureEngineering&#x27;,\n",
              "                 Pipeline(steps=[(&#x27;diameter&#x27;,\n",
              "                                  Pipeline(steps=[(&#x27;diameter_tf&#x27;,\n",
              "                                                   FunctionTransformer(func=&lt;function combine_est_diameter at 0x7fc5d558df80&gt;))])),\n",
              "                                 (&#x27;year&#x27;,\n",
              "                                  Pipeline(steps=[(&#x27;year_tf&#x27;,\n",
              "                                                   FunctionTransformer(func=&lt;function yea...\n",
              "                                                  Pipeline(steps=[(&#x27;scale_num&#x27;,\n",
              "                                                                   StandardScaler())]),\n",
              "                                                  &lt;sklearn.compose._column_transformer.make_column_selector object at 0x7fc5d542fdd0&gt;),\n",
              "                                                 (&#x27;cat_pipe&#x27;,\n",
              "                                                  Pipeline(steps=[(&#x27;cat_impute&#x27;,\n",
              "                                                                   SimpleImputer(strategy=&#x27;most_frequent&#x27;))]),\n",
              "                                                  &lt;sklearn.compose._column_transformer.make_column_selector object at 0x7fc5d542f390&gt;)])),\n",
              "                (&#x27;mdl&#x27;,\n",
              "                 LogisticRegression(penalty=&#x27;elasticnet&#x27;, solver=&#x27;saga&#x27;,\n",
              "                                    tol=0.01))])</pre><b>Please rerun this cell to show the HTML repr or trust the notebook.</b></div><div class=\"sk-container\" hidden><div class=\"sk-item sk-dashed-wrapped\"><div class=\"sk-label-container\"><div class=\"sk-label sk-toggleable\"><input class=\"sk-toggleable__control sk-hidden--visually\" id=\"6a798079-1353-4b0a-a81c-1bc6a7a50e1e\" type=\"checkbox\" ><label for=\"6a798079-1353-4b0a-a81c-1bc6a7a50e1e\" class=\"sk-toggleable__label sk-toggleable__label-arrow\">Pipeline</label><div class=\"sk-toggleable__content\"><pre>Pipeline(steps=[(&#x27;Dropper&#x27;,\n",
              "                 ColumnTransformer(transformers=[(&#x27;dropper&#x27;, &#x27;drop&#x27;,\n",
              "                                                  [&#x27;orbiting_body&#x27;,\n",
              "                                                   &#x27;sentry_object&#x27;, &#x27;id&#x27;])])),\n",
              "                (&#x27;FeatureEngineering&#x27;,\n",
              "                 Pipeline(steps=[(&#x27;diameter&#x27;,\n",
              "                                  Pipeline(steps=[(&#x27;diameter_tf&#x27;,\n",
              "                                                   FunctionTransformer(func=&lt;function combine_est_diameter at 0x7fc5d558df80&gt;))])),\n",
              "                                 (&#x27;year&#x27;,\n",
              "                                  Pipeline(steps=[(&#x27;year_tf&#x27;,\n",
              "                                                   FunctionTransformer(func=&lt;function yea...\n",
              "                                                  Pipeline(steps=[(&#x27;scale_num&#x27;,\n",
              "                                                                   StandardScaler())]),\n",
              "                                                  &lt;sklearn.compose._column_transformer.make_column_selector object at 0x7fc5d542fdd0&gt;),\n",
              "                                                 (&#x27;cat_pipe&#x27;,\n",
              "                                                  Pipeline(steps=[(&#x27;cat_impute&#x27;,\n",
              "                                                                   SimpleImputer(strategy=&#x27;most_frequent&#x27;))]),\n",
              "                                                  &lt;sklearn.compose._column_transformer.make_column_selector object at 0x7fc5d542f390&gt;)])),\n",
              "                (&#x27;mdl&#x27;,\n",
              "                 LogisticRegression(penalty=&#x27;elasticnet&#x27;, solver=&#x27;saga&#x27;,\n",
              "                                    tol=0.01))])</pre></div></div></div><div class=\"sk-serial\"><div class=\"sk-item sk-dashed-wrapped\"><div class=\"sk-label-container\"><div class=\"sk-label sk-toggleable\"><input class=\"sk-toggleable__control sk-hidden--visually\" id=\"0114bb1f-46d6-4f7e-8ea6-00ba47eee9e0\" type=\"checkbox\" ><label for=\"0114bb1f-46d6-4f7e-8ea6-00ba47eee9e0\" class=\"sk-toggleable__label sk-toggleable__label-arrow\">Dropper: ColumnTransformer</label><div class=\"sk-toggleable__content\"><pre>ColumnTransformer(transformers=[(&#x27;dropper&#x27;, &#x27;drop&#x27;,\n",
              "                                 [&#x27;orbiting_body&#x27;, &#x27;sentry_object&#x27;, &#x27;id&#x27;])])</pre></div></div></div><div class=\"sk-parallel\"><div class=\"sk-parallel-item\"><div class=\"sk-item\"><div class=\"sk-label-container\"><div class=\"sk-label sk-toggleable\"><input class=\"sk-toggleable__control sk-hidden--visually\" id=\"108db0c0-ebbf-4939-ba64-db78df8503a5\" type=\"checkbox\" ><label for=\"108db0c0-ebbf-4939-ba64-db78df8503a5\" class=\"sk-toggleable__label sk-toggleable__label-arrow\">dropper</label><div class=\"sk-toggleable__content\"><pre>[&#x27;orbiting_body&#x27;, &#x27;sentry_object&#x27;, &#x27;id&#x27;]</pre></div></div></div><div class=\"sk-serial\"><div class=\"sk-item\"><div class=\"sk-estimator sk-toggleable\"><input class=\"sk-toggleable__control sk-hidden--visually\" id=\"13f5b735-33c9-4411-b5a3-c8028126c188\" type=\"checkbox\" ><label for=\"13f5b735-33c9-4411-b5a3-c8028126c188\" class=\"sk-toggleable__label sk-toggleable__label-arrow\">drop</label><div class=\"sk-toggleable__content\"><pre>drop</pre></div></div></div></div></div></div></div></div><div class=\"sk-item\"><div class=\"sk-label-container\"><div class=\"sk-label sk-toggleable\"><input class=\"sk-toggleable__control sk-hidden--visually\" id=\"7838bc77-7fd3-4cf9-9565-7647bb08eed5\" type=\"checkbox\" ><label for=\"7838bc77-7fd3-4cf9-9565-7647bb08eed5\" class=\"sk-toggleable__label sk-toggleable__label-arrow\">FeatureEngineering: Pipeline</label><div class=\"sk-toggleable__content\"><pre>Pipeline(steps=[(&#x27;diameter&#x27;,\n",
              "                 Pipeline(steps=[(&#x27;diameter_tf&#x27;,\n",
              "                                  FunctionTransformer(func=&lt;function combine_est_diameter at 0x7fc5d558df80&gt;))])),\n",
              "                (&#x27;year&#x27;,\n",
              "                 Pipeline(steps=[(&#x27;year_tf&#x27;,\n",
              "                                  FunctionTransformer(func=&lt;function year_transformer at 0x7fc5d8dbdb90&gt;))]))])</pre></div></div></div><div class=\"sk-serial\"><div class=\"sk-item\"><div class=\"sk-label-container\"><div class=\"sk-label sk-toggleable\"><input class=\"sk-toggleable__control sk-hidden--visually\" id=\"8d76f856-c0bf-45a2-b972-caca2bf7343f\" type=\"checkbox\" ><label for=\"8d76f856-c0bf-45a2-b972-caca2bf7343f\" class=\"sk-toggleable__label sk-toggleable__label-arrow\">diameter: Pipeline</label><div class=\"sk-toggleable__content\"><pre>Pipeline(steps=[(&#x27;diameter_tf&#x27;,\n",
              "                 FunctionTransformer(func=&lt;function combine_est_diameter at 0x7fc5d558df80&gt;))])</pre></div></div></div><div class=\"sk-serial\"><div class=\"sk-item\"><div class=\"sk-estimator sk-toggleable\"><input class=\"sk-toggleable__control sk-hidden--visually\" id=\"b244c0df-ed11-46c7-a708-54a2da76bee2\" type=\"checkbox\" ><label for=\"b244c0df-ed11-46c7-a708-54a2da76bee2\" class=\"sk-toggleable__label sk-toggleable__label-arrow\">FunctionTransformer</label><div class=\"sk-toggleable__content\"><pre>FunctionTransformer(func=&lt;function combine_est_diameter at 0x7fc5d558df80&gt;)</pre></div></div></div></div></div><div class=\"sk-item\"><div class=\"sk-label-container\"><div class=\"sk-label sk-toggleable\"><input class=\"sk-toggleable__control sk-hidden--visually\" id=\"6e1889b1-bc57-46b6-98d6-4c3ae79937cf\" type=\"checkbox\" ><label for=\"6e1889b1-bc57-46b6-98d6-4c3ae79937cf\" class=\"sk-toggleable__label sk-toggleable__label-arrow\">year: Pipeline</label><div class=\"sk-toggleable__content\"><pre>Pipeline(steps=[(&#x27;year_tf&#x27;,\n",
              "                 FunctionTransformer(func=&lt;function year_transformer at 0x7fc5d8dbdb90&gt;))])</pre></div></div></div><div class=\"sk-serial\"><div class=\"sk-item\"><div class=\"sk-estimator sk-toggleable\"><input class=\"sk-toggleable__control sk-hidden--visually\" id=\"f3a41214-3080-43b3-90b1-6d9c52b230df\" type=\"checkbox\" ><label for=\"f3a41214-3080-43b3-90b1-6d9c52b230df\" class=\"sk-toggleable__label sk-toggleable__label-arrow\">FunctionTransformer</label><div class=\"sk-toggleable__content\"><pre>FunctionTransformer(func=&lt;function year_transformer at 0x7fc5d8dbdb90&gt;)</pre></div></div></div></div></div></div></div><div class=\"sk-item sk-dashed-wrapped\"><div class=\"sk-label-container\"><div class=\"sk-label sk-toggleable\"><input class=\"sk-toggleable__control sk-hidden--visually\" id=\"f8d6764c-2d15-4897-8980-9a9f9b7ef5f9\" type=\"checkbox\" ><label for=\"f8d6764c-2d15-4897-8980-9a9f9b7ef5f9\" class=\"sk-toggleable__label sk-toggleable__label-arrow\">PreProcessing: ColumnTransformer</label><div class=\"sk-toggleable__content\"><pre>ColumnTransformer(remainder=&#x27;passthrough&#x27;,\n",
              "                  transformers=[(&#x27;num_pipe&#x27;,\n",
              "                                 Pipeline(steps=[(&#x27;scale_num&#x27;,\n",
              "                                                  StandardScaler())]),\n",
              "                                 &lt;sklearn.compose._column_transformer.make_column_selector object at 0x7fc5d542fdd0&gt;),\n",
              "                                (&#x27;cat_pipe&#x27;,\n",
              "                                 Pipeline(steps=[(&#x27;cat_impute&#x27;,\n",
              "                                                  SimpleImputer(strategy=&#x27;most_frequent&#x27;))]),\n",
              "                                 &lt;sklearn.compose._column_transformer.make_column_selector object at 0x7fc5d542f390&gt;)])</pre></div></div></div><div class=\"sk-parallel\"><div class=\"sk-parallel-item\"><div class=\"sk-item\"><div class=\"sk-label-container\"><div class=\"sk-label sk-toggleable\"><input class=\"sk-toggleable__control sk-hidden--visually\" id=\"f7436780-d7a2-4994-83c5-9688edbd6b0c\" type=\"checkbox\" ><label for=\"f7436780-d7a2-4994-83c5-9688edbd6b0c\" class=\"sk-toggleable__label sk-toggleable__label-arrow\">num_pipe</label><div class=\"sk-toggleable__content\"><pre>&lt;sklearn.compose._column_transformer.make_column_selector object at 0x7fc5d542fdd0&gt;</pre></div></div></div><div class=\"sk-serial\"><div class=\"sk-item\"><div class=\"sk-serial\"><div class=\"sk-item\"><div class=\"sk-estimator sk-toggleable\"><input class=\"sk-toggleable__control sk-hidden--visually\" id=\"b6a0c1f1-3465-48dd-890d-754a1a8c1ee5\" type=\"checkbox\" ><label for=\"b6a0c1f1-3465-48dd-890d-754a1a8c1ee5\" class=\"sk-toggleable__label sk-toggleable__label-arrow\">StandardScaler</label><div class=\"sk-toggleable__content\"><pre>StandardScaler()</pre></div></div></div></div></div></div></div></div><div class=\"sk-parallel-item\"><div class=\"sk-item\"><div class=\"sk-label-container\"><div class=\"sk-label sk-toggleable\"><input class=\"sk-toggleable__control sk-hidden--visually\" id=\"bb05ecf4-8ff7-4128-b99d-31aa5c76fe8d\" type=\"checkbox\" ><label for=\"bb05ecf4-8ff7-4128-b99d-31aa5c76fe8d\" class=\"sk-toggleable__label sk-toggleable__label-arrow\">cat_pipe</label><div class=\"sk-toggleable__content\"><pre>&lt;sklearn.compose._column_transformer.make_column_selector object at 0x7fc5d542f390&gt;</pre></div></div></div><div class=\"sk-serial\"><div class=\"sk-item\"><div class=\"sk-serial\"><div class=\"sk-item\"><div class=\"sk-estimator sk-toggleable\"><input class=\"sk-toggleable__control sk-hidden--visually\" id=\"02d5ec74-3d23-416d-99f5-f44e6350f8e1\" type=\"checkbox\" ><label for=\"02d5ec74-3d23-416d-99f5-f44e6350f8e1\" class=\"sk-toggleable__label sk-toggleable__label-arrow\">SimpleImputer</label><div class=\"sk-toggleable__content\"><pre>SimpleImputer(strategy=&#x27;most_frequent&#x27;)</pre></div></div></div></div></div></div></div></div><div class=\"sk-parallel-item\"><div class=\"sk-item\"><div class=\"sk-label-container\"><div class=\"sk-label sk-toggleable\"><input class=\"sk-toggleable__control sk-hidden--visually\" id=\"a72f7a9d-9ea7-402c-b67b-ae9e7904785a\" type=\"checkbox\" ><label for=\"a72f7a9d-9ea7-402c-b67b-ae9e7904785a\" class=\"sk-toggleable__label sk-toggleable__label-arrow\">remainder</label><div class=\"sk-toggleable__content\"><pre></pre></div></div></div><div class=\"sk-serial\"><div class=\"sk-item\"><div class=\"sk-estimator sk-toggleable\"><input class=\"sk-toggleable__control sk-hidden--visually\" id=\"d7a06865-fd8b-4d19-9240-74556ff13ab8\" type=\"checkbox\" ><label for=\"d7a06865-fd8b-4d19-9240-74556ff13ab8\" class=\"sk-toggleable__label sk-toggleable__label-arrow\">passthrough</label><div class=\"sk-toggleable__content\"><pre>passthrough</pre></div></div></div></div></div></div></div></div><div class=\"sk-item\"><div class=\"sk-estimator sk-toggleable\"><input class=\"sk-toggleable__control sk-hidden--visually\" id=\"c1c39cba-94e2-4c24-b8d8-abc2b3245d6f\" type=\"checkbox\" ><label for=\"c1c39cba-94e2-4c24-b8d8-abc2b3245d6f\" class=\"sk-toggleable__label sk-toggleable__label-arrow\">LogisticRegression</label><div class=\"sk-toggleable__content\"><pre>LogisticRegression(penalty=&#x27;elasticnet&#x27;, solver=&#x27;saga&#x27;, tol=0.01)</pre></div></div></div></div></div></div></div>"
            ]
          },
          "metadata": {}
        }
      ]
    },
    {
      "cell_type": "markdown",
      "source": [
        "#### Support Vector Machines Pipeline"
      ],
      "metadata": {
        "id": "XqyUz9bGTAYF"
      }
    },
    {
      "cell_type": "code",
      "source": [
        "# Generate pipeline for supper vector model\n",
        "support_vector_pipe = Pipeline(steps=[('preproc', preproc),\n",
        "                       ('mdl', SVC(gamma='auto'))])\n",
        "\n",
        "# visualization of the pipeline\n",
        "with config_context(display='diagram'):\n",
        "    display(support_vector_pipe)"
      ],
      "metadata": {
        "id": "JEaw1e-2TJoz",
        "outputId": "7b29ec15-00c6-45cd-a58c-fe33c01c8cd6",
        "colab": {
          "base_uri": "https://localhost:8080/",
          "height": 192
        }
      },
      "execution_count": null,
      "outputs": [
        {
          "output_type": "display_data",
          "data": {
            "text/plain": [
              "Pipeline(steps=[('preproc',\n",
              "                 ColumnTransformer(remainder='passthrough',\n",
              "                                   transformers=[('num_pipe',\n",
              "                                                  Pipeline(steps=[('scale_num',\n",
              "                                                                   StandardScaler())]),\n",
              "                                                  <sklearn.compose._column_transformer.make_column_selector object at 0x7f19dd8a96d0>),\n",
              "                                                 ('cat_pipe',\n",
              "                                                  Pipeline(steps=[('cat_impute',\n",
              "                                                                   SimpleImputer(strategy='most_frequent'))]),\n",
              "                                                  <sklearn.compose._column_transformer.make_column_selector object at 0x7f19dd8a9710>)])),\n",
              "                ('mdl', SVC(gamma='auto'))])"
            ],
            "text/html": [
              "<style>#sk-bd5c98bf-6948-4fed-9651-e65f004545c5 {color: black;background-color: white;}#sk-bd5c98bf-6948-4fed-9651-e65f004545c5 pre{padding: 0;}#sk-bd5c98bf-6948-4fed-9651-e65f004545c5 div.sk-toggleable {background-color: white;}#sk-bd5c98bf-6948-4fed-9651-e65f004545c5 label.sk-toggleable__label {cursor: pointer;display: block;width: 100%;margin-bottom: 0;padding: 0.3em;box-sizing: border-box;text-align: center;}#sk-bd5c98bf-6948-4fed-9651-e65f004545c5 label.sk-toggleable__label-arrow:before {content: \"▸\";float: left;margin-right: 0.25em;color: #696969;}#sk-bd5c98bf-6948-4fed-9651-e65f004545c5 label.sk-toggleable__label-arrow:hover:before {color: black;}#sk-bd5c98bf-6948-4fed-9651-e65f004545c5 div.sk-estimator:hover label.sk-toggleable__label-arrow:before {color: black;}#sk-bd5c98bf-6948-4fed-9651-e65f004545c5 div.sk-toggleable__content {max-height: 0;max-width: 0;overflow: hidden;text-align: left;background-color: #f0f8ff;}#sk-bd5c98bf-6948-4fed-9651-e65f004545c5 div.sk-toggleable__content pre {margin: 0.2em;color: black;border-radius: 0.25em;background-color: #f0f8ff;}#sk-bd5c98bf-6948-4fed-9651-e65f004545c5 input.sk-toggleable__control:checked~div.sk-toggleable__content {max-height: 200px;max-width: 100%;overflow: auto;}#sk-bd5c98bf-6948-4fed-9651-e65f004545c5 input.sk-toggleable__control:checked~label.sk-toggleable__label-arrow:before {content: \"▾\";}#sk-bd5c98bf-6948-4fed-9651-e65f004545c5 div.sk-estimator input.sk-toggleable__control:checked~label.sk-toggleable__label {background-color: #d4ebff;}#sk-bd5c98bf-6948-4fed-9651-e65f004545c5 div.sk-label input.sk-toggleable__control:checked~label.sk-toggleable__label {background-color: #d4ebff;}#sk-bd5c98bf-6948-4fed-9651-e65f004545c5 input.sk-hidden--visually {border: 0;clip: rect(1px 1px 1px 1px);clip: rect(1px, 1px, 1px, 1px);height: 1px;margin: -1px;overflow: hidden;padding: 0;position: absolute;width: 1px;}#sk-bd5c98bf-6948-4fed-9651-e65f004545c5 div.sk-estimator {font-family: monospace;background-color: #f0f8ff;border: 1px dotted black;border-radius: 0.25em;box-sizing: border-box;margin-bottom: 0.5em;}#sk-bd5c98bf-6948-4fed-9651-e65f004545c5 div.sk-estimator:hover {background-color: #d4ebff;}#sk-bd5c98bf-6948-4fed-9651-e65f004545c5 div.sk-parallel-item::after {content: \"\";width: 100%;border-bottom: 1px solid gray;flex-grow: 1;}#sk-bd5c98bf-6948-4fed-9651-e65f004545c5 div.sk-label:hover label.sk-toggleable__label {background-color: #d4ebff;}#sk-bd5c98bf-6948-4fed-9651-e65f004545c5 div.sk-serial::before {content: \"\";position: absolute;border-left: 1px solid gray;box-sizing: border-box;top: 2em;bottom: 0;left: 50%;}#sk-bd5c98bf-6948-4fed-9651-e65f004545c5 div.sk-serial {display: flex;flex-direction: column;align-items: center;background-color: white;padding-right: 0.2em;padding-left: 0.2em;}#sk-bd5c98bf-6948-4fed-9651-e65f004545c5 div.sk-item {z-index: 1;}#sk-bd5c98bf-6948-4fed-9651-e65f004545c5 div.sk-parallel {display: flex;align-items: stretch;justify-content: center;background-color: white;}#sk-bd5c98bf-6948-4fed-9651-e65f004545c5 div.sk-parallel::before {content: \"\";position: absolute;border-left: 1px solid gray;box-sizing: border-box;top: 2em;bottom: 0;left: 50%;}#sk-bd5c98bf-6948-4fed-9651-e65f004545c5 div.sk-parallel-item {display: flex;flex-direction: column;position: relative;background-color: white;}#sk-bd5c98bf-6948-4fed-9651-e65f004545c5 div.sk-parallel-item:first-child::after {align-self: flex-end;width: 50%;}#sk-bd5c98bf-6948-4fed-9651-e65f004545c5 div.sk-parallel-item:last-child::after {align-self: flex-start;width: 50%;}#sk-bd5c98bf-6948-4fed-9651-e65f004545c5 div.sk-parallel-item:only-child::after {width: 0;}#sk-bd5c98bf-6948-4fed-9651-e65f004545c5 div.sk-dashed-wrapped {border: 1px dashed gray;margin: 0 0.4em 0.5em 0.4em;box-sizing: border-box;padding-bottom: 0.4em;background-color: white;position: relative;}#sk-bd5c98bf-6948-4fed-9651-e65f004545c5 div.sk-label label {font-family: monospace;font-weight: bold;background-color: white;display: inline-block;line-height: 1.2em;}#sk-bd5c98bf-6948-4fed-9651-e65f004545c5 div.sk-label-container {position: relative;z-index: 2;text-align: center;}#sk-bd5c98bf-6948-4fed-9651-e65f004545c5 div.sk-container {/* jupyter's `normalize.less` sets `[hidden] { display: none; }` but bootstrap.min.css set `[hidden] { display: none !important; }` so we also need the `!important` here to be able to override the default hidden behavior on the sphinx rendered scikit-learn.org. See: https://github.com/scikit-learn/scikit-learn/issues/21755 */display: inline-block !important;position: relative;}#sk-bd5c98bf-6948-4fed-9651-e65f004545c5 div.sk-text-repr-fallback {display: none;}</style><div id=\"sk-bd5c98bf-6948-4fed-9651-e65f004545c5\" class=\"sk-top-container\"><div class=\"sk-text-repr-fallback\"><pre>Pipeline(steps=[(&#x27;preproc&#x27;,\n",
              "                 ColumnTransformer(remainder=&#x27;passthrough&#x27;,\n",
              "                                   transformers=[(&#x27;num_pipe&#x27;,\n",
              "                                                  Pipeline(steps=[(&#x27;scale_num&#x27;,\n",
              "                                                                   StandardScaler())]),\n",
              "                                                  &lt;sklearn.compose._column_transformer.make_column_selector object at 0x7f19dd8a96d0&gt;),\n",
              "                                                 (&#x27;cat_pipe&#x27;,\n",
              "                                                  Pipeline(steps=[(&#x27;cat_impute&#x27;,\n",
              "                                                                   SimpleImputer(strategy=&#x27;most_frequent&#x27;))]),\n",
              "                                                  &lt;sklearn.compose._column_transformer.make_column_selector object at 0x7f19dd8a9710&gt;)])),\n",
              "                (&#x27;mdl&#x27;, SVC(gamma=&#x27;auto&#x27;))])</pre><b>Please rerun this cell to show the HTML repr or trust the notebook.</b></div><div class=\"sk-container\" hidden><div class=\"sk-item sk-dashed-wrapped\"><div class=\"sk-label-container\"><div class=\"sk-label sk-toggleable\"><input class=\"sk-toggleable__control sk-hidden--visually\" id=\"e2451eb8-e9d8-4c13-a264-fc245d28e725\" type=\"checkbox\" ><label for=\"e2451eb8-e9d8-4c13-a264-fc245d28e725\" class=\"sk-toggleable__label sk-toggleable__label-arrow\">Pipeline</label><div class=\"sk-toggleable__content\"><pre>Pipeline(steps=[(&#x27;preproc&#x27;,\n",
              "                 ColumnTransformer(remainder=&#x27;passthrough&#x27;,\n",
              "                                   transformers=[(&#x27;num_pipe&#x27;,\n",
              "                                                  Pipeline(steps=[(&#x27;scale_num&#x27;,\n",
              "                                                                   StandardScaler())]),\n",
              "                                                  &lt;sklearn.compose._column_transformer.make_column_selector object at 0x7f19dd8a96d0&gt;),\n",
              "                                                 (&#x27;cat_pipe&#x27;,\n",
              "                                                  Pipeline(steps=[(&#x27;cat_impute&#x27;,\n",
              "                                                                   SimpleImputer(strategy=&#x27;most_frequent&#x27;))]),\n",
              "                                                  &lt;sklearn.compose._column_transformer.make_column_selector object at 0x7f19dd8a9710&gt;)])),\n",
              "                (&#x27;mdl&#x27;, SVC(gamma=&#x27;auto&#x27;))])</pre></div></div></div><div class=\"sk-serial\"><div class=\"sk-item sk-dashed-wrapped\"><div class=\"sk-label-container\"><div class=\"sk-label sk-toggleable\"><input class=\"sk-toggleable__control sk-hidden--visually\" id=\"177aeb07-2ab9-430f-8b0d-19065ceeb32c\" type=\"checkbox\" ><label for=\"177aeb07-2ab9-430f-8b0d-19065ceeb32c\" class=\"sk-toggleable__label sk-toggleable__label-arrow\">preproc: ColumnTransformer</label><div class=\"sk-toggleable__content\"><pre>ColumnTransformer(remainder=&#x27;passthrough&#x27;,\n",
              "                  transformers=[(&#x27;num_pipe&#x27;,\n",
              "                                 Pipeline(steps=[(&#x27;scale_num&#x27;,\n",
              "                                                  StandardScaler())]),\n",
              "                                 &lt;sklearn.compose._column_transformer.make_column_selector object at 0x7f19dd8a96d0&gt;),\n",
              "                                (&#x27;cat_pipe&#x27;,\n",
              "                                 Pipeline(steps=[(&#x27;cat_impute&#x27;,\n",
              "                                                  SimpleImputer(strategy=&#x27;most_frequent&#x27;))]),\n",
              "                                 &lt;sklearn.compose._column_transformer.make_column_selector object at 0x7f19dd8a9710&gt;)])</pre></div></div></div><div class=\"sk-parallel\"><div class=\"sk-parallel-item\"><div class=\"sk-item\"><div class=\"sk-label-container\"><div class=\"sk-label sk-toggleable\"><input class=\"sk-toggleable__control sk-hidden--visually\" id=\"7accf56f-eeba-455b-9304-980367c953ab\" type=\"checkbox\" ><label for=\"7accf56f-eeba-455b-9304-980367c953ab\" class=\"sk-toggleable__label sk-toggleable__label-arrow\">num_pipe</label><div class=\"sk-toggleable__content\"><pre>&lt;sklearn.compose._column_transformer.make_column_selector object at 0x7f19dd8a96d0&gt;</pre></div></div></div><div class=\"sk-serial\"><div class=\"sk-item\"><div class=\"sk-serial\"><div class=\"sk-item\"><div class=\"sk-estimator sk-toggleable\"><input class=\"sk-toggleable__control sk-hidden--visually\" id=\"5074cecd-12f4-478d-a170-14a4ba0b23f9\" type=\"checkbox\" ><label for=\"5074cecd-12f4-478d-a170-14a4ba0b23f9\" class=\"sk-toggleable__label sk-toggleable__label-arrow\">StandardScaler</label><div class=\"sk-toggleable__content\"><pre>StandardScaler()</pre></div></div></div></div></div></div></div></div><div class=\"sk-parallel-item\"><div class=\"sk-item\"><div class=\"sk-label-container\"><div class=\"sk-label sk-toggleable\"><input class=\"sk-toggleable__control sk-hidden--visually\" id=\"320efbbc-859f-497d-89d3-adfc334f77f0\" type=\"checkbox\" ><label for=\"320efbbc-859f-497d-89d3-adfc334f77f0\" class=\"sk-toggleable__label sk-toggleable__label-arrow\">cat_pipe</label><div class=\"sk-toggleable__content\"><pre>&lt;sklearn.compose._column_transformer.make_column_selector object at 0x7f19dd8a9710&gt;</pre></div></div></div><div class=\"sk-serial\"><div class=\"sk-item\"><div class=\"sk-serial\"><div class=\"sk-item\"><div class=\"sk-estimator sk-toggleable\"><input class=\"sk-toggleable__control sk-hidden--visually\" id=\"01c051f0-42cf-426f-a8d9-d318caf4abfe\" type=\"checkbox\" ><label for=\"01c051f0-42cf-426f-a8d9-d318caf4abfe\" class=\"sk-toggleable__label sk-toggleable__label-arrow\">SimpleImputer</label><div class=\"sk-toggleable__content\"><pre>SimpleImputer(strategy=&#x27;most_frequent&#x27;)</pre></div></div></div></div></div></div></div></div><div class=\"sk-parallel-item\"><div class=\"sk-item\"><div class=\"sk-label-container\"><div class=\"sk-label sk-toggleable\"><input class=\"sk-toggleable__control sk-hidden--visually\" id=\"4d1f75de-243a-4260-aab9-cdf65315e260\" type=\"checkbox\" ><label for=\"4d1f75de-243a-4260-aab9-cdf65315e260\" class=\"sk-toggleable__label sk-toggleable__label-arrow\">remainder</label><div class=\"sk-toggleable__content\"><pre></pre></div></div></div><div class=\"sk-serial\"><div class=\"sk-item\"><div class=\"sk-estimator sk-toggleable\"><input class=\"sk-toggleable__control sk-hidden--visually\" id=\"048eaec3-6fe0-43d9-92c7-9284cca381c3\" type=\"checkbox\" ><label for=\"048eaec3-6fe0-43d9-92c7-9284cca381c3\" class=\"sk-toggleable__label sk-toggleable__label-arrow\">passthrough</label><div class=\"sk-toggleable__content\"><pre>passthrough</pre></div></div></div></div></div></div></div></div><div class=\"sk-item\"><div class=\"sk-estimator sk-toggleable\"><input class=\"sk-toggleable__control sk-hidden--visually\" id=\"91b8ce82-0b48-4798-96ad-2e5ae5d6c101\" type=\"checkbox\" ><label for=\"91b8ce82-0b48-4798-96ad-2e5ae5d6c101\" class=\"sk-toggleable__label sk-toggleable__label-arrow\">SVC</label><div class=\"sk-toggleable__content\"><pre>SVC(gamma=&#x27;auto&#x27;)</pre></div></div></div></div></div></div></div>"
            ]
          },
          "metadata": {}
        }
      ]
    },
    {
      "cell_type": "markdown",
      "source": [
        "#### K-Nearest Neighbors Pipeline"
      ],
      "metadata": {
        "id": "Ko5yyNI_xRDt"
      }
    },
    {
      "cell_type": "code",
      "source": [
        "# Generate pipeline for supper vector model\n",
        "knn_pipe = Pipeline(steps=[('preproc', preproc),\n",
        "                       ('mdl', KNeighborsClassifier())])\n",
        "\n",
        "# visualization of the pipeline\n",
        "with config_context(display='diagram'):\n",
        "    display(knn_pipe)"
      ],
      "metadata": {
        "id": "Mx3bWnJLxUcu",
        "outputId": "e557dfd8-bd09-4ae8-fd30-603b7dd7566d",
        "colab": {
          "base_uri": "https://localhost:8080/",
          "height": 192
        }
      },
      "execution_count": null,
      "outputs": [
        {
          "output_type": "display_data",
          "data": {
            "text/plain": [
              "Pipeline(steps=[('preproc',\n",
              "                 ColumnTransformer(remainder='passthrough',\n",
              "                                   transformers=[('num_pipe',\n",
              "                                                  Pipeline(steps=[('scale_num',\n",
              "                                                                   StandardScaler())]),\n",
              "                                                  <sklearn.compose._column_transformer.make_column_selector object at 0x7f19dd8a96d0>),\n",
              "                                                 ('cat_pipe',\n",
              "                                                  Pipeline(steps=[('cat_impute',\n",
              "                                                                   SimpleImputer(strategy='most_frequent'))]),\n",
              "                                                  <sklearn.compose._column_transformer.make_column_selector object at 0x7f19dd8a9710>)])),\n",
              "                ('mdl', KNeighborsClassifier())])"
            ],
            "text/html": [
              "<style>#sk-9204aafc-4e2f-4cd8-bb6f-709c99480ea6 {color: black;background-color: white;}#sk-9204aafc-4e2f-4cd8-bb6f-709c99480ea6 pre{padding: 0;}#sk-9204aafc-4e2f-4cd8-bb6f-709c99480ea6 div.sk-toggleable {background-color: white;}#sk-9204aafc-4e2f-4cd8-bb6f-709c99480ea6 label.sk-toggleable__label {cursor: pointer;display: block;width: 100%;margin-bottom: 0;padding: 0.3em;box-sizing: border-box;text-align: center;}#sk-9204aafc-4e2f-4cd8-bb6f-709c99480ea6 label.sk-toggleable__label-arrow:before {content: \"▸\";float: left;margin-right: 0.25em;color: #696969;}#sk-9204aafc-4e2f-4cd8-bb6f-709c99480ea6 label.sk-toggleable__label-arrow:hover:before {color: black;}#sk-9204aafc-4e2f-4cd8-bb6f-709c99480ea6 div.sk-estimator:hover label.sk-toggleable__label-arrow:before {color: black;}#sk-9204aafc-4e2f-4cd8-bb6f-709c99480ea6 div.sk-toggleable__content {max-height: 0;max-width: 0;overflow: hidden;text-align: left;background-color: #f0f8ff;}#sk-9204aafc-4e2f-4cd8-bb6f-709c99480ea6 div.sk-toggleable__content pre {margin: 0.2em;color: black;border-radius: 0.25em;background-color: #f0f8ff;}#sk-9204aafc-4e2f-4cd8-bb6f-709c99480ea6 input.sk-toggleable__control:checked~div.sk-toggleable__content {max-height: 200px;max-width: 100%;overflow: auto;}#sk-9204aafc-4e2f-4cd8-bb6f-709c99480ea6 input.sk-toggleable__control:checked~label.sk-toggleable__label-arrow:before {content: \"▾\";}#sk-9204aafc-4e2f-4cd8-bb6f-709c99480ea6 div.sk-estimator input.sk-toggleable__control:checked~label.sk-toggleable__label {background-color: #d4ebff;}#sk-9204aafc-4e2f-4cd8-bb6f-709c99480ea6 div.sk-label input.sk-toggleable__control:checked~label.sk-toggleable__label {background-color: #d4ebff;}#sk-9204aafc-4e2f-4cd8-bb6f-709c99480ea6 input.sk-hidden--visually {border: 0;clip: rect(1px 1px 1px 1px);clip: rect(1px, 1px, 1px, 1px);height: 1px;margin: -1px;overflow: hidden;padding: 0;position: absolute;width: 1px;}#sk-9204aafc-4e2f-4cd8-bb6f-709c99480ea6 div.sk-estimator {font-family: monospace;background-color: #f0f8ff;border: 1px dotted black;border-radius: 0.25em;box-sizing: border-box;margin-bottom: 0.5em;}#sk-9204aafc-4e2f-4cd8-bb6f-709c99480ea6 div.sk-estimator:hover {background-color: #d4ebff;}#sk-9204aafc-4e2f-4cd8-bb6f-709c99480ea6 div.sk-parallel-item::after {content: \"\";width: 100%;border-bottom: 1px solid gray;flex-grow: 1;}#sk-9204aafc-4e2f-4cd8-bb6f-709c99480ea6 div.sk-label:hover label.sk-toggleable__label {background-color: #d4ebff;}#sk-9204aafc-4e2f-4cd8-bb6f-709c99480ea6 div.sk-serial::before {content: \"\";position: absolute;border-left: 1px solid gray;box-sizing: border-box;top: 2em;bottom: 0;left: 50%;}#sk-9204aafc-4e2f-4cd8-bb6f-709c99480ea6 div.sk-serial {display: flex;flex-direction: column;align-items: center;background-color: white;padding-right: 0.2em;padding-left: 0.2em;}#sk-9204aafc-4e2f-4cd8-bb6f-709c99480ea6 div.sk-item {z-index: 1;}#sk-9204aafc-4e2f-4cd8-bb6f-709c99480ea6 div.sk-parallel {display: flex;align-items: stretch;justify-content: center;background-color: white;}#sk-9204aafc-4e2f-4cd8-bb6f-709c99480ea6 div.sk-parallel::before {content: \"\";position: absolute;border-left: 1px solid gray;box-sizing: border-box;top: 2em;bottom: 0;left: 50%;}#sk-9204aafc-4e2f-4cd8-bb6f-709c99480ea6 div.sk-parallel-item {display: flex;flex-direction: column;position: relative;background-color: white;}#sk-9204aafc-4e2f-4cd8-bb6f-709c99480ea6 div.sk-parallel-item:first-child::after {align-self: flex-end;width: 50%;}#sk-9204aafc-4e2f-4cd8-bb6f-709c99480ea6 div.sk-parallel-item:last-child::after {align-self: flex-start;width: 50%;}#sk-9204aafc-4e2f-4cd8-bb6f-709c99480ea6 div.sk-parallel-item:only-child::after {width: 0;}#sk-9204aafc-4e2f-4cd8-bb6f-709c99480ea6 div.sk-dashed-wrapped {border: 1px dashed gray;margin: 0 0.4em 0.5em 0.4em;box-sizing: border-box;padding-bottom: 0.4em;background-color: white;position: relative;}#sk-9204aafc-4e2f-4cd8-bb6f-709c99480ea6 div.sk-label label {font-family: monospace;font-weight: bold;background-color: white;display: inline-block;line-height: 1.2em;}#sk-9204aafc-4e2f-4cd8-bb6f-709c99480ea6 div.sk-label-container {position: relative;z-index: 2;text-align: center;}#sk-9204aafc-4e2f-4cd8-bb6f-709c99480ea6 div.sk-container {/* jupyter's `normalize.less` sets `[hidden] { display: none; }` but bootstrap.min.css set `[hidden] { display: none !important; }` so we also need the `!important` here to be able to override the default hidden behavior on the sphinx rendered scikit-learn.org. See: https://github.com/scikit-learn/scikit-learn/issues/21755 */display: inline-block !important;position: relative;}#sk-9204aafc-4e2f-4cd8-bb6f-709c99480ea6 div.sk-text-repr-fallback {display: none;}</style><div id=\"sk-9204aafc-4e2f-4cd8-bb6f-709c99480ea6\" class=\"sk-top-container\"><div class=\"sk-text-repr-fallback\"><pre>Pipeline(steps=[(&#x27;preproc&#x27;,\n",
              "                 ColumnTransformer(remainder=&#x27;passthrough&#x27;,\n",
              "                                   transformers=[(&#x27;num_pipe&#x27;,\n",
              "                                                  Pipeline(steps=[(&#x27;scale_num&#x27;,\n",
              "                                                                   StandardScaler())]),\n",
              "                                                  &lt;sklearn.compose._column_transformer.make_column_selector object at 0x7f19dd8a96d0&gt;),\n",
              "                                                 (&#x27;cat_pipe&#x27;,\n",
              "                                                  Pipeline(steps=[(&#x27;cat_impute&#x27;,\n",
              "                                                                   SimpleImputer(strategy=&#x27;most_frequent&#x27;))]),\n",
              "                                                  &lt;sklearn.compose._column_transformer.make_column_selector object at 0x7f19dd8a9710&gt;)])),\n",
              "                (&#x27;mdl&#x27;, KNeighborsClassifier())])</pre><b>Please rerun this cell to show the HTML repr or trust the notebook.</b></div><div class=\"sk-container\" hidden><div class=\"sk-item sk-dashed-wrapped\"><div class=\"sk-label-container\"><div class=\"sk-label sk-toggleable\"><input class=\"sk-toggleable__control sk-hidden--visually\" id=\"6f76e282-a569-4b7f-bc7c-12962304eef4\" type=\"checkbox\" ><label for=\"6f76e282-a569-4b7f-bc7c-12962304eef4\" class=\"sk-toggleable__label sk-toggleable__label-arrow\">Pipeline</label><div class=\"sk-toggleable__content\"><pre>Pipeline(steps=[(&#x27;preproc&#x27;,\n",
              "                 ColumnTransformer(remainder=&#x27;passthrough&#x27;,\n",
              "                                   transformers=[(&#x27;num_pipe&#x27;,\n",
              "                                                  Pipeline(steps=[(&#x27;scale_num&#x27;,\n",
              "                                                                   StandardScaler())]),\n",
              "                                                  &lt;sklearn.compose._column_transformer.make_column_selector object at 0x7f19dd8a96d0&gt;),\n",
              "                                                 (&#x27;cat_pipe&#x27;,\n",
              "                                                  Pipeline(steps=[(&#x27;cat_impute&#x27;,\n",
              "                                                                   SimpleImputer(strategy=&#x27;most_frequent&#x27;))]),\n",
              "                                                  &lt;sklearn.compose._column_transformer.make_column_selector object at 0x7f19dd8a9710&gt;)])),\n",
              "                (&#x27;mdl&#x27;, KNeighborsClassifier())])</pre></div></div></div><div class=\"sk-serial\"><div class=\"sk-item sk-dashed-wrapped\"><div class=\"sk-label-container\"><div class=\"sk-label sk-toggleable\"><input class=\"sk-toggleable__control sk-hidden--visually\" id=\"09b78981-dd7c-469b-8e3a-4e9fe4819f5b\" type=\"checkbox\" ><label for=\"09b78981-dd7c-469b-8e3a-4e9fe4819f5b\" class=\"sk-toggleable__label sk-toggleable__label-arrow\">preproc: ColumnTransformer</label><div class=\"sk-toggleable__content\"><pre>ColumnTransformer(remainder=&#x27;passthrough&#x27;,\n",
              "                  transformers=[(&#x27;num_pipe&#x27;,\n",
              "                                 Pipeline(steps=[(&#x27;scale_num&#x27;,\n",
              "                                                  StandardScaler())]),\n",
              "                                 &lt;sklearn.compose._column_transformer.make_column_selector object at 0x7f19dd8a96d0&gt;),\n",
              "                                (&#x27;cat_pipe&#x27;,\n",
              "                                 Pipeline(steps=[(&#x27;cat_impute&#x27;,\n",
              "                                                  SimpleImputer(strategy=&#x27;most_frequent&#x27;))]),\n",
              "                                 &lt;sklearn.compose._column_transformer.make_column_selector object at 0x7f19dd8a9710&gt;)])</pre></div></div></div><div class=\"sk-parallel\"><div class=\"sk-parallel-item\"><div class=\"sk-item\"><div class=\"sk-label-container\"><div class=\"sk-label sk-toggleable\"><input class=\"sk-toggleable__control sk-hidden--visually\" id=\"4bf23c5f-776c-43e1-ae13-f28258b1fe39\" type=\"checkbox\" ><label for=\"4bf23c5f-776c-43e1-ae13-f28258b1fe39\" class=\"sk-toggleable__label sk-toggleable__label-arrow\">num_pipe</label><div class=\"sk-toggleable__content\"><pre>&lt;sklearn.compose._column_transformer.make_column_selector object at 0x7f19dd8a96d0&gt;</pre></div></div></div><div class=\"sk-serial\"><div class=\"sk-item\"><div class=\"sk-serial\"><div class=\"sk-item\"><div class=\"sk-estimator sk-toggleable\"><input class=\"sk-toggleable__control sk-hidden--visually\" id=\"c9570ee5-0d26-451b-bbea-1acfdfc72aab\" type=\"checkbox\" ><label for=\"c9570ee5-0d26-451b-bbea-1acfdfc72aab\" class=\"sk-toggleable__label sk-toggleable__label-arrow\">StandardScaler</label><div class=\"sk-toggleable__content\"><pre>StandardScaler()</pre></div></div></div></div></div></div></div></div><div class=\"sk-parallel-item\"><div class=\"sk-item\"><div class=\"sk-label-container\"><div class=\"sk-label sk-toggleable\"><input class=\"sk-toggleable__control sk-hidden--visually\" id=\"56a2e92e-f75a-4ec8-b722-d2ce5127c825\" type=\"checkbox\" ><label for=\"56a2e92e-f75a-4ec8-b722-d2ce5127c825\" class=\"sk-toggleable__label sk-toggleable__label-arrow\">cat_pipe</label><div class=\"sk-toggleable__content\"><pre>&lt;sklearn.compose._column_transformer.make_column_selector object at 0x7f19dd8a9710&gt;</pre></div></div></div><div class=\"sk-serial\"><div class=\"sk-item\"><div class=\"sk-serial\"><div class=\"sk-item\"><div class=\"sk-estimator sk-toggleable\"><input class=\"sk-toggleable__control sk-hidden--visually\" id=\"e7d7349e-12b5-468e-9c06-828175c3657c\" type=\"checkbox\" ><label for=\"e7d7349e-12b5-468e-9c06-828175c3657c\" class=\"sk-toggleable__label sk-toggleable__label-arrow\">SimpleImputer</label><div class=\"sk-toggleable__content\"><pre>SimpleImputer(strategy=&#x27;most_frequent&#x27;)</pre></div></div></div></div></div></div></div></div><div class=\"sk-parallel-item\"><div class=\"sk-item\"><div class=\"sk-label-container\"><div class=\"sk-label sk-toggleable\"><input class=\"sk-toggleable__control sk-hidden--visually\" id=\"5191fe2d-2ade-446d-9ffd-041e74e25d49\" type=\"checkbox\" ><label for=\"5191fe2d-2ade-446d-9ffd-041e74e25d49\" class=\"sk-toggleable__label sk-toggleable__label-arrow\">remainder</label><div class=\"sk-toggleable__content\"><pre></pre></div></div></div><div class=\"sk-serial\"><div class=\"sk-item\"><div class=\"sk-estimator sk-toggleable\"><input class=\"sk-toggleable__control sk-hidden--visually\" id=\"e60b0473-d723-464f-9ef9-37a422cefdca\" type=\"checkbox\" ><label for=\"e60b0473-d723-464f-9ef9-37a422cefdca\" class=\"sk-toggleable__label sk-toggleable__label-arrow\">passthrough</label><div class=\"sk-toggleable__content\"><pre>passthrough</pre></div></div></div></div></div></div></div></div><div class=\"sk-item\"><div class=\"sk-estimator sk-toggleable\"><input class=\"sk-toggleable__control sk-hidden--visually\" id=\"0017e1f1-8bed-4680-813e-4addf60068fc\" type=\"checkbox\" ><label for=\"0017e1f1-8bed-4680-813e-4addf60068fc\" class=\"sk-toggleable__label sk-toggleable__label-arrow\">KNeighborsClassifier</label><div class=\"sk-toggleable__content\"><pre>KNeighborsClassifier()</pre></div></div></div></div></div></div></div>"
            ]
          },
          "metadata": {}
        }
      ]
    },
    {
      "cell_type": "markdown",
      "source": [
        "### Model Fitting and Evaluation\n",
        "\n",
        "Since I'm looking to see if an NEO is hazardous, this will be a binary classification problem. I have one primary assumption for feature importance:\n",
        "- `miss_distance` will most likely be the most important feature considering that we can assume that the closer an NEO is to Earth, the more potential dangerous it is.\n",
        "\n",
        "I anticipate the model to perform well (90%+) since there are some general trends with all of the numerical features. "
      ],
      "metadata": {
        "id": "ox8ZmXW0K6bM"
      }
    },
    {
      "cell_type": "markdown",
      "source": [
        "#### Logistic Regression Fit & Evaluation"
      ],
      "metadata": {
        "id": "5K4w7KExSgaG"
      }
    },
    {
      "cell_type": "code",
      "source": [
        "# Setup Tuning Grid & Grid Search for Logistic Regression\n",
        "\n",
        "logistic_regression_tuning_grid = {'mdl__l1_ratio': np.linspace(0,1,5),\n",
        "                                   'mdl__C': np.logspace(-1,6,3)}\n",
        "\n",
        "logistic_regression_grid_search = GridSearchCV(logistic_regression_pipe, param_grid=logistic_regression_tuning_grid, return_train_score=True)"
      ],
      "metadata": {
        "id": "N3qlF56GkfCK"
      },
      "execution_count": null,
      "outputs": []
    },
    {
      "cell_type": "code",
      "source": [
        "# Find best logistic regression model parameters by fitting grid search\n",
        "logistic_regression_grid_search.fit(X_train, y_train)"
      ],
      "metadata": {
        "id": "-J7kYP4Tlqjl",
        "outputId": "3d264c9e-cda6-4d7e-e9b6-0486b26fdb23",
        "colab": {
          "base_uri": "https://localhost:8080/"
        }
      },
      "execution_count": null,
      "outputs": [
        {
          "output_type": "execute_result",
          "data": {
            "text/plain": [
              "GridSearchCV(estimator=Pipeline(steps=[('preproc',\n",
              "                                        ColumnTransformer(remainder='passthrough',\n",
              "                                                          transformers=[('num_pipe',\n",
              "                                                                         Pipeline(steps=[('scale_num',\n",
              "                                                                                          StandardScaler())]),\n",
              "                                                                         <sklearn.compose._column_transformer.make_column_selector object at 0x7f19dd8a96d0>),\n",
              "                                                                        ('cat_pipe',\n",
              "                                                                         Pipeline(steps=[('cat_impute',\n",
              "                                                                                          SimpleImputer(strategy='most_frequent'))]),\n",
              "                                                                         <sklearn.compose._column_transformer.make_column_selector object at 0x7f19dd8a9710>)])),\n",
              "                                       ('mdl',\n",
              "                                        LogisticRegression(penalty='elasticnet',\n",
              "                                                           solver='saga',\n",
              "                                                           tol=0.01))]),\n",
              "             param_grid={'mdl__C': array([1.00000000e-01, 3.16227766e+02, 1.00000000e+06]),\n",
              "                         'mdl__l1_ratio': array([0.  , 0.25, 0.5 , 0.75, 1.  ])},\n",
              "             return_train_score=True)"
            ]
          },
          "metadata": {},
          "execution_count": 28
        }
      ]
    },
    {
      "cell_type": "code",
      "source": [
        "# logistic regression best model parameteres and values\n",
        "print(logistic_regression_grid_search.best_score_)\n",
        "logistic_regression_grid_search.best_params_"
      ],
      "metadata": {
        "id": "Y2Xn7R2Dpyvl",
        "outputId": "b7e35146-0888-4750-d05c-f03c1f1936a2",
        "colab": {
          "base_uri": "https://localhost:8080/"
        }
      },
      "execution_count": null,
      "outputs": [
        {
          "output_type": "stream",
          "name": "stdout",
          "text": [
            "0.9015888902789942\n"
          ]
        },
        {
          "output_type": "execute_result",
          "data": {
            "text/plain": [
              "{'mdl__C': 1000000.0, 'mdl__l1_ratio': 0.25}"
            ]
          },
          "metadata": {},
          "execution_count": 29
        }
      ]
    },
    {
      "cell_type": "code",
      "source": [
        "# logistic regression best estimator pipeline\n",
        "logistic_regression_grid_search.best_estimator_"
      ],
      "metadata": {
        "id": "gqbIOxCEqTyN",
        "outputId": "3f3d0a2f-9f14-4f8f-80d1-923f0e5d4072",
        "colab": {
          "base_uri": "https://localhost:8080/"
        }
      },
      "execution_count": null,
      "outputs": [
        {
          "output_type": "execute_result",
          "data": {
            "text/plain": [
              "Pipeline(steps=[('preproc',\n",
              "                 ColumnTransformer(remainder='passthrough',\n",
              "                                   transformers=[('num_pipe',\n",
              "                                                  Pipeline(steps=[('scale_num',\n",
              "                                                                   StandardScaler())]),\n",
              "                                                  <sklearn.compose._column_transformer.make_column_selector object at 0x7f19dd8a9c10>),\n",
              "                                                 ('cat_pipe',\n",
              "                                                  Pipeline(steps=[('cat_impute',\n",
              "                                                                   SimpleImputer(strategy='most_frequent'))]),\n",
              "                                                  <sklearn.compose._column_transformer.make_column_selector object at 0x7f19dd8953d0>)])),\n",
              "                ('mdl',\n",
              "                 LogisticRegression(C=1000000.0, l1_ratio=0.25,\n",
              "                                    penalty='elasticnet', solver='saga',\n",
              "                                    tol=0.01))])"
            ]
          },
          "metadata": {},
          "execution_count": 30
        }
      ]
    },
    {
      "cell_type": "code",
      "source": [
        "# logistic regression feature weights\n",
        "lr_feature_weight = abs(logistic_regression_grid_search.best_estimator_['mdl'].coef_[0])\n",
        "lr_feature_names = ['relative_velocity', 'miss_distance', 'absolute_magnitude', 'est_diameter', 'year']\n",
        "\n",
        "lr_feature_importance = pd.DataFrame({'feature labels': lr_feature_names, 'feature weights': lr_feature_weight})\n",
        "lr_feature_importance.plot.bar(x='feature labels', y='feature weights')\n",
        "plt.show()"
      ],
      "metadata": {
        "id": "jnHWRdxdqhFl",
        "outputId": "3a1ad7c8-5f19-4a95-bcee-b9194387de8d",
        "colab": {
          "base_uri": "https://localhost:8080/",
          "height": 371
        }
      },
      "execution_count": null,
      "outputs": [
        {
          "output_type": "display_data",
          "data": {
            "text/plain": [
              "<Figure size 432x288 with 1 Axes>"
            ],
            "image/png": "[encoded data removed]"
          },
          "metadata": {
            "needs_background": "light"
          }
        }
      ]
    },
    {
      "cell_type": "markdown",
      "source": [
        "#### Support Vector Machines Fit & Evaluation"
      ],
      "metadata": {
        "id": "MwR_-innVuQ7"
      }
    },
    {
      "cell_type": "code",
      "source": [
        "# Setup Tuning Grid & Grid Search for Support Vector Machines Model\n",
        "\n",
        "support_vector_tuning_grid = {'mdl__C': [0.1,1],\n",
        "                              'mdl__kernel': ['linear', 'poly', 'rbf']}\n",
        "\n",
        "support_vector_grid_search = GridSearchCV(support_vector_pipe, param_grid=support_vector_tuning_grid, return_train_score=True)"
      ],
      "metadata": {
        "id": "q6sUfzzhVzCs"
      },
      "execution_count": null,
      "outputs": []
    },
    {
      "cell_type": "code",
      "source": [
        "# Find best support vector model parameters by fitting grid search\n",
        "support_vector_grid_search.fit(X_train, y_train)"
      ],
      "metadata": {
        "id": "c92Mx-bUX-1w",
        "outputId": "92718332-7030-4328-c97f-172f2f1aba42",
        "colab": {
          "base_uri": "https://localhost:8080/"
        }
      },
      "execution_count": null,
      "outputs": [
        {
          "output_type": "execute_result",
          "data": {
            "text/plain": [
              "GridSearchCV(estimator=Pipeline(steps=[('preproc',\n",
              "                                        ColumnTransformer(remainder='passthrough',\n",
              "                                                          transformers=[('num_pipe',\n",
              "                                                                         Pipeline(steps=[('scale_num',\n",
              "                                                                                          StandardScaler())]),\n",
              "                                                                         <sklearn.compose._column_transformer.make_column_selector object at 0x7f19dd8a96d0>),\n",
              "                                                                        ('cat_pipe',\n",
              "                                                                         Pipeline(steps=[('cat_impute',\n",
              "                                                                                          SimpleImputer(strategy='most_frequent'))]),\n",
              "                                                                         <sklearn.compose._column_transformer.make_column_selector object at 0x7f19dd8a9710>)])),\n",
              "                                       ('mdl', SVC(gamma='auto'))]),\n",
              "             param_grid={'mdl__C': [0.1, 1],\n",
              "                         'mdl__kernel': ['linear', 'poly', 'rbf']},\n",
              "             return_train_score=True)"
            ]
          },
          "metadata": {},
          "execution_count": 33
        }
      ]
    },
    {
      "cell_type": "code",
      "source": [
        "# Support Vector machines best model parameteres and values\n",
        "print(support_vector_grid_search.best_score_)\n",
        "support_vector_grid_search.best_params_"
      ],
      "metadata": {
        "id": "hJ_OVn5br1vv",
        "outputId": "f1407c9a-1cfc-48a4-daca-b579cd08d333",
        "colab": {
          "base_uri": "https://localhost:8080/"
        }
      },
      "execution_count": null,
      "outputs": [
        {
          "output_type": "stream",
          "name": "stdout",
          "text": [
            "0.9102464656574503\n"
          ]
        },
        {
          "output_type": "execute_result",
          "data": {
            "text/plain": [
              "{'mdl__C': 1, 'mdl__kernel': 'rbf'}"
            ]
          },
          "metadata": {},
          "execution_count": 34
        }
      ]
    },
    {
      "cell_type": "code",
      "source": [
        "# Support Vector machines best estimator pipeline\n",
        "support_vector_grid_search.best_estimator_"
      ],
      "metadata": {
        "id": "Sh9FZf99sCYx",
        "outputId": "ac5d3c7b-8e50-48d2-9654-701d4721ef3e",
        "colab": {
          "base_uri": "https://localhost:8080/"
        }
      },
      "execution_count": null,
      "outputs": [
        {
          "output_type": "execute_result",
          "data": {
            "text/plain": [
              "Pipeline(steps=[('preproc',\n",
              "                 ColumnTransformer(remainder='passthrough',\n",
              "                                   transformers=[('num_pipe',\n",
              "                                                  Pipeline(steps=[('scale_num',\n",
              "                                                                   StandardScaler())]),\n",
              "                                                  <sklearn.compose._column_transformer.make_column_selector object at 0x7f19dd8a9f90>),\n",
              "                                                 ('cat_pipe',\n",
              "                                                  Pipeline(steps=[('cat_impute',\n",
              "                                                                   SimpleImputer(strategy='most_frequent'))]),\n",
              "                                                  <sklearn.compose._column_transformer.make_column_selector object at 0x7f19e2524b50>)])),\n",
              "                ('mdl', SVC(C=1, gamma='auto'))])"
            ]
          },
          "metadata": {},
          "execution_count": 35
        }
      ]
    },
    {
      "cell_type": "markdown",
      "source": [
        "#### K-Nearest Neighbors Fit & Evaluation"
      ],
      "metadata": {
        "id": "-RYrxFsjzSyd"
      }
    },
    {
      "cell_type": "code",
      "source": [
        "# Setup Tuning Grid & Grid Search for K-Nearest Neighbors Model\n",
        "knn_tuning_grid = {'mdl__n_neighbors': [1,5, 10],\n",
        "                    'mdl__leaf_size': [10, 20, 30],\n",
        "                    'mdl__p': [1,2],\n",
        "                    'mdl__weights': ['uniform', 'distance']}\n",
        "\n",
        "knn_grid_search = GridSearchCV(knn_pipe, param_grid=knn_tuning_grid, return_train_score=True)"
      ],
      "metadata": {
        "id": "rOskZhzozZPo"
      },
      "execution_count": null,
      "outputs": []
    },
    {
      "cell_type": "code",
      "source": [
        "# Find best k-nearest neighbors model parameters by fitting grid search\n",
        "knn_grid_search.fit(X_train, y_train)"
      ],
      "metadata": {
        "id": "Tv57j1zXz3h6",
        "outputId": "dfc43864-9bcc-4cbd-f89e-799145c31360",
        "colab": {
          "base_uri": "https://localhost:8080/"
        }
      },
      "execution_count": null,
      "outputs": [
        {
          "output_type": "execute_result",
          "data": {
            "text/plain": [
              "GridSearchCV(estimator=Pipeline(steps=[('preproc',\n",
              "                                        ColumnTransformer(remainder='passthrough',\n",
              "                                                          transformers=[('num_pipe',\n",
              "                                                                         Pipeline(steps=[('scale_num',\n",
              "                                                                                          StandardScaler())]),\n",
              "                                                                         <sklearn.compose._column_transformer.make_column_selector object at 0x7f19dd8a96d0>),\n",
              "                                                                        ('cat_pipe',\n",
              "                                                                         Pipeline(steps=[('cat_impute',\n",
              "                                                                                          SimpleImputer(strategy='most_frequent'))]),\n",
              "                                                                         <sklearn.compose._column_transformer.make_column_selector object at 0x7f19dd8a9710>)])),\n",
              "                                       ('mdl', KNeighborsClassifier())]),\n",
              "             param_grid={'mdl__leaf_size': [10, 20, 30],\n",
              "                         'mdl__n_neighbors': [1, 5, 10], 'mdl__p': [1, 2],\n",
              "                         'mdl__weights': ['uniform', 'distance']},\n",
              "             return_train_score=True)"
            ]
          },
          "metadata": {},
          "execution_count": 37
        }
      ]
    },
    {
      "cell_type": "code",
      "source": [
        "# K-Nearest Neighbors best model parameteres and values\n",
        "print(knn_grid_search.best_score_)\n",
        "knn_grid_search.best_params_"
      ],
      "metadata": {
        "id": "YQmX79BjwSvx",
        "outputId": "86c0d926-e85f-431a-cd7e-14560ce4a0c9",
        "colab": {
          "base_uri": "https://localhost:8080/"
        }
      },
      "execution_count": null,
      "outputs": [
        {
          "output_type": "stream",
          "name": "stdout",
          "text": [
            "0.912948830226448\n"
          ]
        },
        {
          "output_type": "execute_result",
          "data": {
            "text/plain": [
              "{'mdl__leaf_size': 10,\n",
              " 'mdl__n_neighbors': 10,\n",
              " 'mdl__p': 1,\n",
              " 'mdl__weights': 'distance'}"
            ]
          },
          "metadata": {},
          "execution_count": 38
        }
      ]
    },
    {
      "cell_type": "code",
      "source": [
        "# K-Nearest Neighbors best estimator pipeline\n",
        "knn_grid_search.best_estimator_"
      ],
      "metadata": {
        "id": "lEwkI9NAwwav",
        "outputId": "fef908aa-e3bb-4df7-8dab-3aa45bdf9517",
        "colab": {
          "base_uri": "https://localhost:8080/"
        }
      },
      "execution_count": null,
      "outputs": [
        {
          "output_type": "execute_result",
          "data": {
            "text/plain": [
              "Pipeline(steps=[('preproc',\n",
              "                 ColumnTransformer(remainder='passthrough',\n",
              "                                   transformers=[('num_pipe',\n",
              "                                                  Pipeline(steps=[('scale_num',\n",
              "                                                                   StandardScaler())]),\n",
              "                                                  <sklearn.compose._column_transformer.make_column_selector object at 0x7f19dd856410>),\n",
              "                                                 ('cat_pipe',\n",
              "                                                  Pipeline(steps=[('cat_impute',\n",
              "                                                                   SimpleImputer(strategy='most_frequent'))]),\n",
              "                                                  <sklearn.compose._column_transformer.make_column_selector object at 0x7f19dd603510>)])),\n",
              "                ('mdl',\n",
              "                 KNeighborsClassifier(leaf_size=10, n_neighbors=10, p=1,\n",
              "                                      weights='distance'))])"
            ]
          },
          "metadata": {},
          "execution_count": 39
        }
      ]
    },
    {
      "cell_type": "markdown",
      "source": [
        "## Performance Metrics\n",
        "\n",
        "Given I have an extremely unbalanced dataset, I will assume that it will be difficult to accurately predict `true` values. Recall will be an importance metric to look at as the false negative result is very costly in this scenario. Precision and f1-score will also be looked at but won't be as important. I expect logistic regression to perform the worst but have no insight yet on which model will perform better between support vector machines and k-nearest neighbors."
      ],
      "metadata": {
        "id": "26rS_B-zq5c9"
      }
    },
    {
      "cell_type": "markdown",
      "source": [
        "### Logistic Regression Performance Metrics"
      ],
      "metadata": {
        "id": "8MczBXCatOgA"
      }
    },
    {
      "cell_type": "code",
      "source": [
        "# Logistic Regression Classification Report\n",
        "print(classification_report(y_test, logistic_regression_grid_search.best_estimator_.predict(X_test)))"
      ],
      "metadata": {
        "id": "9GVsIkzJt7U_",
        "outputId": "8b6bc2e3-0a96-4c93-e65c-b434b135df63",
        "colab": {
          "base_uri": "https://localhost:8080/"
        }
      },
      "execution_count": null,
      "outputs": [
        {
          "output_type": "stream",
          "name": "stdout",
          "text": [
            "              precision    recall  f1-score   support\n",
            "\n",
            "       False       0.90      1.00      0.95     36077\n",
            "        True       0.44      0.03      0.05      3889\n",
            "\n",
            "    accuracy                           0.90     39966\n",
            "   macro avg       0.67      0.51      0.50     39966\n",
            "weighted avg       0.86      0.90      0.86     39966\n",
            "\n"
          ]
        }
      ]
    },
    {
      "cell_type": "code",
      "source": [
        "# Logistic Regression Confusion Matrix\n",
        "lr_cm = confusion_matrix(y_test, logistic_regression_grid_search.best_estimator_.predict(X_test))\n",
        "lr_disp = ConfusionMatrixDisplay(confusion_matrix=lr_cm,\n",
        "                                    display_labels=logistic_regression_grid_search.classes_)\n",
        "lr_disp.plot()\n",
        "plt.show()"
      ],
      "metadata": {
        "id": "FH-JWA9MuR4m",
        "outputId": "ef2b74a4-e9ce-4935-8983-37a5da0e4e29",
        "colab": {
          "base_uri": "https://localhost:8080/",
          "height": 279
        }
      },
      "execution_count": null,
      "outputs": [
        {
          "output_type": "display_data",
          "data": {
            "text/plain": [
              "<Figure size 432x288 with 2 Axes>"
            ],
            "image/png": "[encoded data removed]"
          },
          "metadata": {
            "needs_background": "light"
          }
        }
      ]
    },
    {
      "cell_type": "markdown",
      "source": [
        "### Support Vector Machines Performance Metrics"
      ],
      "metadata": {
        "id": "7evZIkIdtUKg"
      }
    },
    {
      "cell_type": "code",
      "source": [
        "# Support Vector Machines Classification Report\n",
        "print(classification_report(y_test, support_vector_grid_search.best_estimator_.predict(X_test)))"
      ],
      "metadata": {
        "id": "0ICSeO-ztaZA",
        "outputId": "6cfe0111-2367-42f9-82c0-5e60cc6d4360",
        "colab": {
          "base_uri": "https://localhost:8080/"
        }
      },
      "execution_count": null,
      "outputs": [
        {
          "output_type": "stream",
          "name": "stdout",
          "text": [
            "              precision    recall  f1-score   support\n",
            "\n",
            "       False       0.91      1.00      0.95     36077\n",
            "        True       0.78      0.11      0.19      3889\n",
            "\n",
            "    accuracy                           0.91     39966\n",
            "   macro avg       0.85      0.55      0.57     39966\n",
            "weighted avg       0.90      0.91      0.88     39966\n",
            "\n"
          ]
        }
      ]
    },
    {
      "cell_type": "code",
      "source": [
        "# Support Vector Machines Confusion Matrix\n",
        "svm_cm = confusion_matrix(y_test, support_vector_grid_search.best_estimator_.predict(X_test))\n",
        "svm_disp = ConfusionMatrixDisplay(confusion_matrix=svm_cm,\n",
        "                                    display_labels=support_vector_grid_search.classes_)\n",
        "svm_disp.plot()\n",
        "plt.show()"
      ],
      "metadata": {
        "id": "YbovceAhtoAG",
        "outputId": "43367b6c-4886-4bc5-d1cb-b84ce8e4b6b0",
        "colab": {
          "base_uri": "https://localhost:8080/",
          "height": 279
        }
      },
      "execution_count": null,
      "outputs": [
        {
          "output_type": "display_data",
          "data": {
            "text/plain": [
              "<Figure size 432x288 with 2 Axes>"
            ],
            "image/png": "[encoded data removed]"
          },
          "metadata": {
            "needs_background": "light"
          }
        }
      ]
    },
    {
      "cell_type": "markdown",
      "source": [
        "### K-Nearest Neighbors Performance Metrics"
      ],
      "metadata": {
        "id": "KJ6CxgXLw3bD"
      }
    },
    {
      "cell_type": "code",
      "source": [
        "# K-Nearest Neighbors Classification Report\n",
        "print(classification_report(y_test, knn_grid_search.best_estimator_.predict(X_test)))"
      ],
      "metadata": {
        "id": "kF3cOj81w7m-",
        "outputId": "62f0201c-a0c2-48b2-f312-8112879ee15e",
        "colab": {
          "base_uri": "https://localhost:8080/"
        }
      },
      "execution_count": null,
      "outputs": [
        {
          "output_type": "stream",
          "name": "stdout",
          "text": [
            "              precision    recall  f1-score   support\n",
            "\n",
            "       False       0.93      0.98      0.95     36077\n",
            "        True       0.58      0.32      0.42      3889\n",
            "\n",
            "    accuracy                           0.91     39966\n",
            "   macro avg       0.76      0.65      0.68     39966\n",
            "weighted avg       0.90      0.91      0.90     39966\n",
            "\n"
          ]
        }
      ]
    },
    {
      "cell_type": "code",
      "source": [
        "# K-Nearest Neighbors Confusion Matrix\n",
        "knn_cm = confusion_matrix(y_test, knn_grid_search.best_estimator_.predict(X_test))\n",
        "knn_disp = ConfusionMatrixDisplay(confusion_matrix=knn_cm,\n",
        "                                    display_labels=knn_grid_search.classes_)\n",
        "knn_disp.plot()\n",
        "plt.show()"
      ],
      "metadata": {
        "id": "m-rPz3KGxS4p",
        "outputId": "d8ba716d-fa82-4f11-fe81-e5ab4d7b5d75",
        "colab": {
          "base_uri": "https://localhost:8080/",
          "height": 282
        }
      },
      "execution_count": null,
      "outputs": [
        {
          "output_type": "display_data",
          "data": {
            "text/plain": [
              "<Figure size 432x288 with 2 Axes>"
            ],
            "image/png": "[encoded data removed]"
          },
          "metadata": {
            "needs_background": "light"
          }
        }
      ]
    },
    {
      "cell_type": "markdown",
      "source": [
        "### Summary of Preliminary Modeling Results\n",
        "\n",
        "3 different models were fitted and tuned using Grid Search for hyperparameter tuning. It was very clear from the beginning that the data were extremely unbalanced and this was quickly proven by disproportionately lower performance metrics for the `true` labeled result.  All models performed well in predicting whether a datapoint was a non-hazardous asteroid (`false`) with precision, recall, and f1 scores being all 0.90 or higher. \n",
        "\n",
        "\n",
        "\n",
        "Therefore the best performing model should be the one which did the best with predicting hazardous asteroids (`true`). The support vector machines model provided the highest precision by far for `true` results at 0.78 but had a very poor recall at 0.11 giving it an f1 score of 0.19. The k-nearest neighbors model had a precision of 0.58 and a recall of 0.32 giving it an f1 score of 0.42. The logistic regression model had low performance metrics across the board and won't be considered going foward. \n",
        "\n",
        "\n",
        "\n",
        "Since logistic regression assumes some sort of linearity this may have been the downfall of the model as it's not entirely certain if there are any linear relationships in this dataset. Support vector machines perform well with highly dimensional datasets and can also deal with unbalanced datasets with the `weights` parameter which was tuned during the grid search. K-nearest neighbors0 classifiers can also deal with unbalanced datasets in a similar way which could be a reason why it also performed better than the logistic regression model among other reasons. \n",
        "\n",
        "\n",
        "\n",
        "In this scenario I believe that recall is the most important metric because the false negative instance (predicting an asteroid to be non-hazardous and its true value is hazardous) is the most costly by far so we would want recall to be as high as possible. Given this I predict that the K-Nearest Neighbors model is most likely the best performing model when it comes to business value.\n",
        "\n",
        "    "
      ],
      "metadata": {
        "id": "q-1EgfhAyH5G"
      }
    },
    {
      "cell_type": "markdown",
      "source": [
        "#### Comparing models using business metrics\n",
        "\n",
        "    "
      ],
      "metadata": {
        "id": "wsi-pcWSTxBe"
      }
    },
    {
      "cell_type": "code",
      "source": [
        "# Logistic Regression Business Costs\n",
        "\n",
        "lr_true_non = 10\n",
        "lr_false_non = 10 + (5*(lr_cm[0][1]))\n",
        "lr_false_haz = 10 + (100*(lr_cm[1][0]))\n",
        "lr_true_haz = 10 + (5*(lr_cm[1][1]))\n",
        "\n",
        "lr_total_cost = (lr_true_non + lr_false_non + lr_false_haz + lr_true_haz) // 1000\n",
        "\n",
        "print(f'The total business cost using a logistic regression model is ${lr_total_cost} B')"
      ],
      "metadata": {
        "id": "AnpDt7pJT-Nh",
        "outputId": "0f09a6c5-e285-443d-eb11-b017bb92b19a",
        "colab": {
          "base_uri": "https://localhost:8080/"
        }
      },
      "execution_count": null,
      "outputs": [
        {
          "output_type": "stream",
          "name": "stdout",
          "text": [
            "The total business cost using a logistic regression model is $378 B\n"
          ]
        }
      ]
    },
    {
      "cell_type": "code",
      "source": [
        "# Support Vector Machines Business Costs\n",
        "\n",
        "svm_true_non = 10\n",
        "svm_false_non = 10 + (5*(svm_cm[0][1]))\n",
        "svm_false_haz = 10 + (100*(svm_cm[1][0]))\n",
        "svm_true_haz = 10 + (5*(svm_cm[1][1]))\n",
        "\n",
        "svm_total_cost = (svm_true_non + svm_false_non + svm_false_haz + svm_true_haz) // 1000\n",
        "\n",
        "print(f'The total business cost using a support vector machines model is ${svm_total_cost} B')"
      ],
      "metadata": {
        "id": "cLTQguJrUCTd",
        "outputId": "5cf31988-cd87-4d1b-a645-cdbc12b41981",
        "colab": {
          "base_uri": "https://localhost:8080/"
        }
      },
      "execution_count": null,
      "outputs": [
        {
          "output_type": "stream",
          "name": "stdout",
          "text": [
            "The total business cost using a support vector machines model is $349 B\n"
          ]
        }
      ]
    },
    {
      "cell_type": "code",
      "source": [
        "# K-Nearest Neighbors Business Costs\n",
        "\n",
        "knn_true_non = 10\n",
        "knn_false_non = 10 + (5*(knn_cm[0][1]))\n",
        "knn_false_haz = 10 + (100*(knn_cm[1][0]))\n",
        "knn_true_haz = 10 + (5*(knn_cm[1][1]))\n",
        "\n",
        "knn_total_cost = (knn_true_non + knn_false_non + knn_false_haz + knn_true_haz) // 1000\n",
        "\n",
        "print(f'The total business cost using a k-nearest neighbors model is ${knn_total_cost} B')"
      ],
      "metadata": {
        "id": "QWHbS6z3UEvY",
        "outputId": "1318e72e-9370-48e6-bb13-4f8a5f56a1bf",
        "colab": {
          "base_uri": "https://localhost:8080/"
        }
      },
      "execution_count": null,
      "outputs": [
        {
          "output_type": "stream",
          "name": "stdout",
          "text": [
            "The total business cost using a k-nearest neighbors model is $273 B\n"
          ]
        }
      ]
    },
    {
      "cell_type": "code",
      "source": [
        "model_comp_names = ['Log Reg', 'SVM', 'KNN']\n",
        "model_costs = [lr_total_cost, svm_total_cost, knn_total_cost]\n",
        "\n",
        "model_comp = pd.DataFrame({'Model Name': model_comp_names, 'Cost in $B': model_costs})\n",
        "model_comp.plot.bar(x='Model Name', y='Cost in $B', title='Cost in Billions of Dollars per Model')\n",
        "plt.show()"
      ],
      "metadata": {
        "id": "l-0eJ8vAc2e4",
        "outputId": "f104e765-478c-436a-8f73-3a836a4148d9",
        "colab": {
          "base_uri": "https://localhost:8080/",
          "height": 325
        }
      },
      "execution_count": null,
      "outputs": [
        {
          "output_type": "display_data",
          "data": {
            "text/plain": [
              "<Figure size 432x288 with 1 Axes>"
            ],
            "image/png": "[encoded data removed]"
          },
          "metadata": {
            "needs_background": "light"
          }
        }
      ]
    },
    {
      "cell_type": "markdown",
      "source": [
        "Using the formulas in the README.md file I calculated business costs for all scenarios in the confusion matrix for each model. As predicted the K-Nearest Neighbors model had the lowest business cost. It was \\$76 B cheaper than the Support Vector Machines model and it was over \\$100 B cheaper than the Logistic Regression model."
      ],
      "metadata": {
        "id": "iVhF9EC1anl0"
      }
    }
  ]
}